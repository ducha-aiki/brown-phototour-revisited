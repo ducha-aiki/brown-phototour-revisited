{
 "cells": [
  {
   "cell_type": "markdown",
   "metadata": {},
   "source": [
    "# Benchmarking the non-deep descriptors"
   ]
  },
  {
   "cell_type": "markdown",
   "metadata": {},
   "source": [
    "Here we will evaluate all descriptors, which are available easily enough, e.g. from OpenCV or other python implementation. There will be final comparison table in the end of this notebook."
   ]
  },
  {
   "cell_type": "code",
   "execution_count": 9,
   "metadata": {},
   "outputs": [
    {
     "name": "stdout",
     "output_type": "stream",
     "text": [
      "Requirement already satisfied: opencv-python in /home/mishkdmy/.conda/envs/fastai1/lib/python3.7/site-packages (4.4.0.42)\n",
      "Requirement already satisfied: numpy>=1.14.5 in /home/mishkdmy/.conda/envs/fastai1/lib/python3.7/site-packages (from opencv-python) (1.18.0)\n",
      "Requirement already satisfied: opencv-contrib-python in /home/mishkdmy/.local/lib/python3.7/site-packages (4.4.0.42)\n",
      "Requirement already satisfied: numpy>=1.14.5 in /home/mishkdmy/.conda/envs/fastai1/lib/python3.7/site-packages (from opencv-contrib-python) (1.18.0)\n",
      "Requirement already satisfied: kornia in /home/mishkdmy/.local/lib/python3.7/site-packages (0.4.1+0c9e625)\n",
      "Requirement already satisfied: numpy in /home/mishkdmy/.conda/envs/fastai1/lib/python3.7/site-packages (from kornia) (1.18.0)\n",
      "Requirement already satisfied: torch<1.7.0,>=1.6.0 in /home/mishkdmy/.local/lib/python3.7/site-packages (from kornia) (1.6.0)\n",
      "Requirement already satisfied: future in /home/mishkdmy/.local/lib/python3.7/site-packages (from torch<1.7.0,>=1.6.0->kornia) (0.18.2)\n"
     ]
    }
   ],
   "source": [
    "!pip install opencv-python --user\n",
    "!pip install opencv-contrib-python --user \n",
    "!pip install kornia"
   ]
  },
  {
   "cell_type": "markdown",
   "metadata": {},
   "source": [
    "# SIFT and RootSIFT, [kornia](https://kornia.readthedocs.io/en/latest/feature.html#kornia.feature.SIFTDescriptor) implementation"
   ]
  },
  {
   "cell_type": "code",
   "execution_count": 1,
   "metadata": {},
   "outputs": [],
   "source": [
    "from IPython.display import clear_output\n",
    "import torch\n",
    "import kornia\n",
    "from brown_phototour_revisited.benchmarking import *\n",
    "def nice_results_string(desc_name, res_dict):\n",
    "    if 'liberty' in res_dict:\n",
    "        lib = f'{(100*res_dict[\"liberty\"]):.2f}'\n",
    "    else:\n",
    "        lib = '-----'\n",
    "    if 'notredame' in res_dict:\n",
    "        notre = f'{(100*res_dict[\"notredame\"]):.2f}'\n",
    "    else:\n",
    "        notre = '-----'\n",
    "    if 'yosemite' in res_dict:\n",
    "        yos = f'{(100*res_dict[\"yosemite\"]):.2f}'\n",
    "    else:\n",
    "        yos = '-----'\n",
    "    \n",
    "    res = f'{desc_name[:20].ljust(20)}   {lib}      {notre}      {yos} '\n",
    "    return res\n",
    "TITLE = 'desc_name              liberty   notredame  yosemite'\n",
    "\n",
    "descs_out_dir = 'data/descriptors'\n",
    "download_dataset_to = 'data/dataset'\n",
    "results_dir = 'data/mAP'\n",
    "\n",
    "full_results_dict = {}\n",
    "\n",
    "for patch_size in [32, 41, 65]:\n",
    "    desc_name = 'Kornia RootSIFT'\n",
    "    model = kornia.feature.SIFTDescriptor(patch_size, rootsift=True).eval()\n",
    "    desc_dict = full_evaluation(model,\n",
    "                                desc_name,\n",
    "                                path_to_save_dataset = download_dataset_to,\n",
    "                                path_to_save_descriptors = descs_out_dir,\n",
    "                                path_to_save_mAP = results_dir,\n",
    "                                patch_size = patch_size, \n",
    "                                device = torch.device('cuda:0'), \n",
    "                           distance='euclidean',\n",
    "                           backend='pytorch-cuda')\n",
    "    full_results_dict[f'{desc_name} {patch_size}px'] = desc_dict\n",
    "clear_output()"
   ]
  },
  {
   "cell_type": "code",
   "execution_count": null,
   "metadata": {},
   "outputs": [],
   "source": []
  },
  {
   "cell_type": "code",
   "execution_count": 2,
   "metadata": {},
   "outputs": [
    {
     "name": "stdout",
     "output_type": "stream",
     "text": [
      "desc_name              liberty   notredame  yosemite\n",
      "Kornia RootSIFT 32px   49.65      49.07      58.24 \n",
      "Kornia RootSIFT 41px   49.01      48.48      57.83 \n",
      "Kornia RootSIFT 65px   48.09      47.71      56.70 \n"
     ]
    }
   ],
   "source": [
    "print (TITLE)\n",
    "for k, v in full_results_dict.items():\n",
    "    print (nice_results_string(k,  v['3rdparty']))\n"
   ]
  },
  {
   "cell_type": "code",
   "execution_count": 3,
   "metadata": {},
   "outputs": [
    {
     "name": "stdout",
     "output_type": "stream",
     "text": [
      "desc_name              liberty   notredame  yosemite\n",
      "Kornia RootSIFT 32px   49.65      49.07      58.24 \n",
      "Kornia RootSIFT 41px   49.01      48.48      57.83 \n",
      "Kornia RootSIFT 65px   48.09      47.71      56.70 \n",
      "Kornia SIFT 32px       48.70      47.76      58.47 \n",
      "Kornia SIFT 41px       48.30      47.30      58.14 \n",
      "Kornia SIFT 65px       47.59      46.58      57.04 \n"
     ]
    }
   ],
   "source": [
    "for patch_size in [32, 41, 65]:\n",
    "    desc_name = 'Kornia SIFT'\n",
    "    model = kornia.feature.SIFTDescriptor(patch_size, rootsift=False).eval()\n",
    "    desc_dict = full_evaluation(model,\n",
    "                                'Kornia_SIFT',\n",
    "                                path_to_save_dataset = download_dataset_to,\n",
    "                                path_to_save_descriptors = descs_out_dir,\n",
    "                                path_to_save_mAP = results_dir,\n",
    "                                patch_size = patch_size, \n",
    "                                device = torch.device('cuda:0'), \n",
    "                           distance='euclidean',\n",
    "                           backend='pytorch-cuda')\n",
    "    full_results_dict[f'{desc_name} {patch_size}px'] = desc_dict\n",
    "clear_output()\n",
    "print (TITLE)\n",
    "for k, v in full_results_dict.items():\n",
    "    print (nice_results_string(k,  v['3rdparty']))"
   ]
  },
  {
   "cell_type": "markdown",
   "metadata": {},
   "source": [
    "# SIFT OpenCV\n",
    "\n",
    "Now we will try OpenCV SIFT. It expects not patches, but full image and keypoints, so we will create a single keypoint in the center of the patch."
   ]
  },
  {
   "cell_type": "code",
   "execution_count": 4,
   "metadata": {},
   "outputs": [
    {
     "name": "stdout",
     "output_type": "stream",
     "text": [
      "desc_name              liberty   notredame  yosemite\n",
      "Kornia RootSIFT 32px   49.65      49.07      58.24 \n",
      "Kornia RootSIFT 41px   49.01      48.48      57.83 \n",
      "Kornia RootSIFT 65px   48.09      47.71      56.70 \n",
      "Kornia SIFT 32px       48.70      47.76      58.47 \n",
      "Kornia SIFT 41px       48.30      47.30      58.14 \n",
      "Kornia SIFT 65px       47.59      46.58      57.04 \n",
      "OpenCV_SIFT 32px       50.95      49.18      60.01 \n",
      "OpenCV_SIFT 41px       53.20      50.81      63.61 \n",
      "OpenCV_SIFT 65px       54.87      52.25      66.97 \n"
     ]
    }
   ],
   "source": [
    "import cv2\n",
    "import numpy as np\n",
    "PS = 32\n",
    "def get_center_kp(PS):\n",
    "    c = PS/2.0\n",
    "    center_kp = cv2.KeyPoint()\n",
    "    center_kp.pt = (float(c),float(c))\n",
    "    center_kp.size = PS/12.\n",
    "    return center_kp\n",
    "\n",
    "sift = cv2.SIFT_create()\n",
    "def extract_opencv_sift(patch):\n",
    "    return sift.compute((255*patch).astype(np.uint8),[get_center_kp(PS)])[1][0].reshape(128)\n",
    "\n",
    "descs_out_dir = 'data/descriptors'\n",
    "download_dataset_to = 'data/dataset'\n",
    "\n",
    "\n",
    "for PS in [32, 41, 65]:\n",
    "    desc_name = 'OpenCV_SIFT'\n",
    "    desc_dict = full_evaluation(extract_opencv_sift,\n",
    "                                desc_name,\n",
    "                                path_to_save_dataset = download_dataset_to,\n",
    "                                path_to_save_descriptors = descs_out_dir,\n",
    "                                path_to_save_mAP = results_dir,\n",
    "                                patch_size = PS, \n",
    "                                device = torch.device('cuda:0'), \n",
    "                           distance='euclidean',\n",
    "                           backend='pytorch-cuda')\n",
    "    full_results_dict[f'{desc_name} {PS}px'] = desc_dict\n",
    "clear_output()\n",
    "print (TITLE)\n",
    "for k, v in full_results_dict.items():\n",
    "    print (nice_results_string(k,  v['3rdparty']))\n"
   ]
  },
  {
   "cell_type": "markdown",
   "metadata": {},
   "source": []
  },
  {
   "cell_type": "markdown",
   "metadata": {},
   "source": [
    "What else do we have in OpenCV 4.4? \n",
    "- VGG (ConvexOpt). It is very cool descriptor, but there is no information about which subset provided descriptors were learned on :(\n",
    "- LATCH (learned on yosemite)\n",
    "- BoostDesc. Same as VGG\n",
    "- DAISY. Same as VGG\n",
    "- FREAK\n",
    "- LUCID\n",
    "- AKAZE\n",
    "\n",
    "Let's go!"
   ]
  },
  {
   "cell_type": "markdown",
   "metadata": {},
   "source": [
    "# [LATCH](https://arxiv.org/abs/1501.03719)\n",
    "\n",
    "It is binary learned descriptor."
   ]
  },
  {
   "cell_type": "code",
   "execution_count": 20,
   "metadata": {
    "scrolled": false
   },
   "outputs": [],
   "source": [
    "desc = cv2.xfeatures2d.LATCH_create()\n",
    "\n",
    "def extract_latch(patch):\n",
    "    return desc.compute((255*patch).astype(np.uint8),\n",
    "                        [get_center_kp(PS)])[1][0].reshape(-1)\n",
    "\n",
    "descs_out_dir = 'data/descriptors'\n",
    "download_dataset_to = 'data/dataset'\n",
    "\n",
    "for PS in [65]: #32 crashes for LATCH.\n",
    "    desc_name = 'OpenCV_LATCH'\n",
    "    models = {\"yosemite\": extract_latch}\n",
    "    desc_dict = full_evaluation(models,\n",
    "                                desc_name,\n",
    "                                path_to_save_dataset = download_dataset_to,\n",
    "                                path_to_save_descriptors = descs_out_dir,\n",
    "                                path_to_save_mAP = results_dir,\n",
    "                                patch_size = PS, \n",
    "                                device = torch.device('cuda:0'), \n",
    "                           distance='hamming',\n",
    "                           backend='numpy')\n",
    "    full_results_dict[f'{desc_name} {PS}px'] = desc_dict\n",
    "clear_output()"
   ]
  },
  {
   "cell_type": "code",
   "execution_count": 6,
   "metadata": {},
   "outputs": [
    {
     "name": "stdout",
     "output_type": "stream",
     "text": [
      "desc_name              liberty   notredame  yosemite\n",
      "Kornia RootSIFT 32px   49.65      49.07      58.24 \n",
      "Kornia RootSIFT 41px   49.01      48.48      57.83 \n",
      "Kornia RootSIFT 65px   48.09      47.71      56.70 \n",
      "Kornia SIFT 32px       48.70      47.76      58.47 \n",
      "Kornia SIFT 41px       48.30      47.30      58.14 \n",
      "Kornia SIFT 65px       47.59      46.58      57.04 \n",
      "OpenCV_SIFT 32px       50.95      49.18      60.01 \n",
      "OpenCV_SIFT 41px       53.20      50.81      63.61 \n",
      "OpenCV_SIFT 65px       54.87      52.25      66.97 \n",
      "OpenCV_LATCH 65px      39.08      37.26      ----- \n"
     ]
    }
   ],
   "source": [
    "print (TITLE)\n",
    "for k, v in full_results_dict.items():\n",
    "    if 'LATCH' in k:\n",
    "        print (nice_results_string(k,  v['yosemite']))\n",
    "    else:\n",
    "        print (nice_results_string(k,  v['3rdparty']))\n",
    "    "
   ]
  },
  {
   "cell_type": "code",
   "execution_count": null,
   "metadata": {},
   "outputs": [],
   "source": []
  },
  {
   "cell_type": "markdown",
   "metadata": {},
   "source": [
    "# [LUCID](https://papers.nips.cc/paper/4706-locally-uniform-comparison-image-descriptor)"
   ]
  },
  {
   "cell_type": "code",
   "execution_count": 7,
   "metadata": {
    "scrolled": false
   },
   "outputs": [
    {
     "name": "stdout",
     "output_type": "stream",
     "text": [
      "desc_name              liberty   notredame  yosemite\n",
      "Kornia RootSIFT 32px   49.65      49.07      58.24 \n",
      "Kornia RootSIFT 41px   49.01      48.48      57.83 \n",
      "Kornia RootSIFT 65px   48.09      47.71      56.70 \n",
      "Kornia SIFT 32px       48.70      47.76      58.47 \n",
      "Kornia SIFT 41px       48.30      47.30      58.14 \n",
      "Kornia SIFT 65px       47.59      46.58      57.04 \n",
      "OpenCV_SIFT 32px       50.95      49.18      60.01 \n",
      "OpenCV_SIFT 41px       53.20      50.81      63.61 \n",
      "OpenCV_SIFT 65px       54.87      52.25      66.97 \n",
      "OpenCV_LATCH 65px      39.08      37.26      ----- \n",
      "OpenCV_LUCID 32px      27.24      23.08      20.37 \n",
      "OpenCV_LUCID 65px      27.65      23.31      20.53 \n"
     ]
    }
   ],
   "source": [
    "desc = cv2.xfeatures2d.LUCID_create()\n",
    "def extract_lucid(patch):\n",
    "    return desc.compute(cv2.cvtColor((255*patch).astype(np.uint8),cv2.COLOR_GRAY2RGB),\n",
    "                        [get_center_kp(PS)])[1][0].reshape(-1)\n",
    "\n",
    "descs_out_dir = 'data/descriptors'\n",
    "download_dataset_to = 'data/dataset'\n",
    "\n",
    "for PS in [32, 65]:\n",
    "    desc_name = 'OpenCV_LUCID'\n",
    "    desc_dict = full_evaluation(extract_lucid,\n",
    "                                desc_name,\n",
    "                                path_to_save_dataset = download_dataset_to,\n",
    "                                path_to_save_descriptors = descs_out_dir,\n",
    "                                path_to_save_mAP = results_dir,\n",
    "                                patch_size = PS, \n",
    "                                device = torch.device('cuda:0'), \n",
    "                           distance='hamming',\n",
    "                           backend='numpy')\n",
    "    full_results_dict[f'{desc_name} {PS}px'] = desc_dict\n",
    "clear_output()\n",
    "print (TITLE)\n",
    "for k, v in full_results_dict.items():\n",
    "    if 'LATCH' in k:\n",
    "        print (nice_results_string(k,  v['yosemite']))\n",
    "    else:\n",
    "        print (nice_results_string(k,  v['3rdparty']))\n",
    "    \n",
    "\n"
   ]
  },
  {
   "cell_type": "code",
   "execution_count": 8,
   "metadata": {},
   "outputs": [
    {
     "name": "stdout",
     "output_type": "stream",
     "text": [
      "desc_name              liberty   notredame  yosemite\n",
      "Kornia RootSIFT 32px   49.65      49.07      58.24 \n",
      "Kornia RootSIFT 41px   49.01      48.48      57.83 \n",
      "Kornia RootSIFT 65px   48.09      47.71      56.70 \n",
      "Kornia SIFT 32px       48.70      47.76      58.47 \n",
      "Kornia SIFT 41px       48.30      47.30      58.14 \n",
      "Kornia SIFT 65px       47.59      46.58      57.04 \n",
      "OpenCV_SIFT 32px       50.95      49.18      60.01 \n",
      "OpenCV_SIFT 41px       53.20      50.81      63.61 \n",
      "OpenCV_SIFT 65px       54.87      52.25      66.97 \n",
      "OpenCV_LATCH 65px      39.08      37.26      ----- \n",
      "OpenCV_LUCID 32px      27.24      23.08      20.37 \n",
      "OpenCV_LUCID 65px      27.65      23.31      20.53 \n",
      "OpenCV_FREAK 65px      43.30      40.39      46.15 \n"
     ]
    }
   ],
   "source": [
    "desc = cv2.xfeatures2d.FREAK_create()\n",
    "def extract_freak(patch):\n",
    "    return desc.compute((255*patch).astype(np.uint8),\n",
    "                        [get_center_kp(PS)])[1][0].reshape(-1)\n",
    "\n",
    "descs_out_dir = 'data/descriptors'\n",
    "download_dataset_to = 'data/dataset'\n",
    "\n",
    "for PS in [65]:\n",
    "    desc_name = 'OpenCV_FREAK'\n",
    "    desc_dict = full_evaluation(extract_freak,\n",
    "                                desc_name,\n",
    "                                path_to_save_dataset = download_dataset_to,\n",
    "                                path_to_save_descriptors = descs_out_dir,\n",
    "                                path_to_save_mAP = results_dir,\n",
    "                                patch_size = PS, \n",
    "                                device = torch.device('cuda:0'), \n",
    "                           distance='hamming',\n",
    "                           backend='numpy')\n",
    "    full_results_dict[f'{desc_name} {PS}px'] = desc_dict\n",
    "clear_output()\n",
    "print (TITLE)\n",
    "for k, v in full_results_dict.items():\n",
    "    if 'LATCH' in k:\n",
    "        print (nice_results_string(k,  v['yosemite']))\n",
    "    else:\n",
    "        print (nice_results_string(k,  v['3rdparty']))"
   ]
  },
  {
   "cell_type": "code",
   "execution_count": null,
   "metadata": {},
   "outputs": [],
   "source": []
  },
  {
   "cell_type": "code",
   "execution_count": 29,
   "metadata": {
    "scrolled": false
   },
   "outputs": [],
   "source": [
    "TITLE1 = 'trained on       liberty notredame  liberty yosemite  notredame yosemite'\n",
    "TITLE2 = 'tested  on           yosemite           notredame            liberty'\n",
    "\n",
    "\n",
    "def nice_results_3rdparty(desc_name, res_dict):\n",
    "    if 'liberty' in res_dict:\n",
    "        lib = f'{(100*res_dict[\"liberty\"]):.2f}'\n",
    "    else:\n",
    "        lib = '-----'\n",
    "    if 'notredame' in res_dict:\n",
    "        notre = f'{(100*res_dict[\"notredame\"]):.2f}'\n",
    "    else:\n",
    "        notre = '-----'\n",
    "    if 'yosemite' in res_dict:\n",
    "        yos = f'{(100*res_dict[\"yosemite\"]):.2f}'\n",
    "    else:\n",
    "        yos = '-----'\n",
    "    res = f'{desc_name[:20].ljust(20)}   {yos}              {notre}               {lib} '\n",
    "    return res\n",
    "\n",
    "NA = '-----'\n",
    "def nice_results_Brown(desc_name, res_dict):\n",
    "    lib_yos, lib_notre, yos_notre, yos_lib, notre_lib, notre_yos = NA,NA,NA,NA,NA,NA\n",
    "    if 'liberty' in res_dict:\n",
    "        cr = res_dict['liberty']\n",
    "        if 'notredame' in cr:\n",
    "            lib_notre = f'{(100*cr[\"notredame\"]):.2f}'\n",
    "        else:\n",
    "            lib_notre = NA\n",
    "        if 'yosemite' in cr:\n",
    "            lib_yos = f'{(100*cr[\"yosemite\"]):.2f}'\n",
    "        else:\n",
    "            lib_yos = NA\n",
    "    if 'notredame' in res_dict:\n",
    "        cr = res_dict['notredame']\n",
    "        if 'liberty' in cr:\n",
    "            notre_lib = f'{(100*cr[\"liberty\"]):.2f}'\n",
    "        else:\n",
    "            notre_lib = NA\n",
    "        if 'yosemite' in cr:\n",
    "            notre_yos = f'{(100*cr[\"yosemite\"]):.2f}'\n",
    "        else:\n",
    "            notre_yos = NA    \n",
    "    if 'yosemite' in res_dict:\n",
    "        cr = res_dict['yosemite']\n",
    "        if 'liberty' in cr:\n",
    "            yos_lib = f'{(100*cr[\"liberty\"]):.2f}'\n",
    "        else:\n",
    "            yos_lib = NA\n",
    "        if 'notredame' in cr:\n",
    "            yos_notre = f'{(100*cr[\"notredame\"]):.2f}'\n",
    "        else:\n",
    "            yos_notre = NA    \n",
    "    \n",
    "    res = f'{desc_name[:20].ljust(18)} {lib_yos}  {lib_notre}        {notre_lib}  {notre_yos}        {yos_notre}  {yos_lib}'\n",
    "    return res\n",
    "\n",
    "def print_results_table(full_res_dict):\n",
    "    print (TITLE1)\n",
    "    print (TITLE2)\n",
    "\n",
    "    for desc_name, desc_results in full_res_dict.items():\n",
    "        if '3rdparty' in desc_results:\n",
    "            #print (desc_results)\n",
    "            if len(desc_results['3rdparty']) == 3:\n",
    "                print (nice_results_3rdparty(desc_name, desc_results['3rdparty']))\n",
    "            else:\n",
    "                print (nice_results_Brown(desc_name, desc_results))\n",
    "        else:\n",
    "            print (nice_results_Brown(desc_name, desc_results))\n",
    "    print ()\n",
    "    return\n",
    "\n"
   ]
  },
  {
   "cell_type": "code",
   "execution_count": 26,
   "metadata": {},
   "outputs": [
    {
     "name": "stdout",
     "output_type": "stream",
     "text": [
      "trained on       liberty notredame  liberty yosemite  notredame yosemite\n",
      "tested  on           yosemite           notredame            liberty\n",
      "Kornia RootSIFT 32px   58.24              49.07               49.65 \n",
      "Kornia RootSIFT 41px   57.83              48.48               49.01 \n",
      "Kornia RootSIFT 65px   56.70              47.71               48.09 \n",
      "Kornia SIFT 32px       58.47              47.76               48.70 \n",
      "Kornia SIFT 41px       58.14              47.30               48.30 \n",
      "Kornia SIFT 65px       57.04              46.58               47.59 \n",
      "OpenCV_SIFT 32px       60.01              49.18               50.95 \n",
      "OpenCV_SIFT 41px       63.61              50.81               53.20 \n",
      "OpenCV_SIFT 65px       66.97              52.25               54.87 \n",
      "OpenCV_LATCH 65px  -----  -----        -----  -----        37.26  39.08\n",
      "OpenCV_LUCID 32px      20.37              23.08               27.24 \n",
      "OpenCV_LUCID 65px      20.53              23.31               27.65 \n",
      "OpenCV_FREAK 65px      46.15              40.39               43.30 \n",
      "\n"
     ]
    }
   ],
   "source": [
    "print_results_table(full_results_dict)"
   ]
  },
  {
   "cell_type": "markdown",
   "metadata": {},
   "source": [
    "If you use the benchmark, please cite it:\n",
    "\n",
    "    @misc{BrownRevisited2020,\n",
    "      title={UBC PhotoTour Revisied},\n",
    "      author={Mishkin, Dmytro},\n",
    "      year={2020},\n",
    "      url = {https://github.com/ducha-aiki/brown_phototour_revisited}\n",
    "    }"
   ]
  },
  {
   "cell_type": "markdown",
   "metadata": {},
   "source": []
  }
 ],
 "metadata": {
  "kernelspec": {
   "display_name": "Python 3",
   "language": "python",
   "name": "python3"
  },
  "language_info": {
   "codemirror_mode": {
    "name": "ipython",
    "version": 3
   },
   "file_extension": ".py",
   "mimetype": "text/x-python",
   "name": "python",
   "nbconvert_exporter": "python",
   "pygments_lexer": "ipython3",
   "version": "3.7.5"
  }
 },
 "nbformat": 4,
 "nbformat_minor": 2
}
