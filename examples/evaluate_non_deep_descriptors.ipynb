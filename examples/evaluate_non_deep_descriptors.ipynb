{
 "cells": [
  {
   "cell_type": "markdown",
   "metadata": {},
   "source": [
    "# Benchmarking the non-deep descriptors"
   ]
  },
  {
   "cell_type": "markdown",
   "metadata": {},
   "source": [
    "Here we will evaluate all descriptors, which are available easily enough, e.g. from OpenCV or other python implementation. There will be final comparison table in the end of this notebook.\n",
    "\n",
    "\n",
    "### Disclaimer: binary descriptors are not typically run on normalized patches\n",
    "\n",
    "\n",
    "E.g. this benchmark shows quite strong performance of BRIEF descriptor as implemented in skimage. However,\n",
    "typically binary descriptors are optimized for speed and run on the (non-normalized) image, rather than cropped-blurred-rescaled patches. That is why BRIEF-in-the-wild or FREAK-in-the-wild would probably perform noticably worse than, currect benchmark shows"
   ]
  },
  {
   "cell_type": "code",
   "execution_count": null,
   "metadata": {},
   "outputs": [],
   "source": [
    "!pip install opencv-python --user\n",
    "!pip install opencv-contrib-python --user \n",
    "!pip install kornia"
   ]
  },
  {
   "cell_type": "markdown",
   "metadata": {},
   "source": [
    "# SIFT and RootSIFT, [kornia](https://kornia.readthedocs.io/en/latest/feature.html#kornia.feature.SIFTDescriptor) implementation"
   ]
  },
  {
   "cell_type": "code",
   "execution_count": 1,
   "metadata": {},
   "outputs": [
    {
     "name": "stdout",
     "output_type": "stream",
     "text": [
      "------------------------------------------------------------------------------\n",
      "Mean Average Precision wrt Lowe SNN ratio criterion on UBC Phototour Revisited\n",
      "------------------------------------------------------------------------------\n",
      "trained on       liberty notredame  liberty yosemite  notredame yosemite\n",
      "tested  on           yosemite           notredame            liberty\n",
      "------------------------------------------------------------------------------\n",
      "Kornia RootSIFT 32px   58.24              49.07               49.65 \n",
      "Kornia RootSIFT 41px   57.83              48.48               49.01 \n",
      "------------------------------------------------------------------------------\n"
     ]
    }
   ],
   "source": [
    "from IPython.display import clear_output\n",
    "import torch\n",
    "import kornia\n",
    "from brown_phototour_revisited.benchmarking import *\n",
    "\n",
    "descs_out_dir = 'data/descriptors'\n",
    "download_dataset_to = 'data/dataset'\n",
    "results_dir = 'data/mAP'\n",
    "\n",
    "full_results_dict = {}\n",
    "\n",
    "for patch_size in [32, 41]:\n",
    "    desc_name = 'Kornia RootSIFT'\n",
    "    model = kornia.feature.SIFTDescriptor(patch_size, rootsift=True).eval()\n",
    "    desc_dict = full_evaluation(model,\n",
    "                                desc_name,\n",
    "                                path_to_save_dataset = download_dataset_to,\n",
    "                                path_to_save_descriptors = descs_out_dir,\n",
    "                                path_to_save_mAP = results_dir,\n",
    "                                patch_size = patch_size, \n",
    "                                device = torch.device('cuda:0'), \n",
    "                           distance='euclidean',\n",
    "                           backend='pytorch-cuda')\n",
    "    full_results_dict[f'{desc_name} {patch_size}px'] = desc_dict\n",
    "clear_output()\n",
    "print_results_table(full_results_dict)"
   ]
  },
  {
   "cell_type": "code",
   "execution_count": 2,
   "metadata": {},
   "outputs": [
    {
     "name": "stdout",
     "output_type": "stream",
     "text": [
      "------------------------------------------------------------------------------\n",
      "Mean Average Precision wrt Lowe SNN ratio criterion on UBC Phototour Revisited\n",
      "------------------------------------------------------------------------------\n",
      "trained on       liberty notredame  liberty yosemite  notredame yosemite\n",
      "tested  on           yosemite           notredame            liberty\n",
      "------------------------------------------------------------------------------\n",
      "Kornia RootSIFT 32px   58.24              49.07               49.65 \n",
      "Kornia RootSIFT 41px   57.83              48.48               49.01 \n",
      "Kornia SIFT 32px       58.47              47.76               48.70 \n",
      "Kornia SIFT 41px       58.14              47.30               48.30 \n",
      "------------------------------------------------------------------------------\n"
     ]
    }
   ],
   "source": [
    "for patch_size in [32, 41]:\n",
    "    desc_name = 'Kornia SIFT'\n",
    "    model = kornia.feature.SIFTDescriptor(patch_size, rootsift=False).eval()\n",
    "    desc_dict = full_evaluation(model,\n",
    "                                'Kornia_SIFT',\n",
    "                                path_to_save_dataset = download_dataset_to,\n",
    "                                path_to_save_descriptors = descs_out_dir,\n",
    "                                path_to_save_mAP = results_dir,\n",
    "                                patch_size = patch_size, \n",
    "                                device = torch.device('cuda:0'), \n",
    "                           distance='euclidean',\n",
    "                           backend='pytorch-cuda')\n",
    "    full_results_dict[f'{desc_name} {patch_size}px'] = desc_dict\n",
    "clear_output()\n",
    "print_results_table(full_results_dict)"
   ]
  },
  {
   "cell_type": "markdown",
   "metadata": {},
   "source": [
    "# SIFT OpenCV\n",
    "\n",
    "Now we will try OpenCV SIFT. It expects not patches, but full image and keypoints, so we will create a single keypoint in the center of the patch."
   ]
  },
  {
   "cell_type": "code",
   "execution_count": 4,
   "metadata": {},
   "outputs": [
    {
     "name": "stdout",
     "output_type": "stream",
     "text": [
      "------------------------------------------------------------------------------\n",
      "Mean Average Precision wrt Lowe SNN ratio criterion on UBC Phototour Revisited\n",
      "------------------------------------------------------------------------------\n",
      "trained on       liberty notredame  liberty yosemite  notredame yosemite\n",
      "tested  on           yosemite           notredame            liberty\n",
      "------------------------------------------------------------------------------\n",
      "Kornia RootSIFT 32px   58.24              49.07               49.65 \n",
      "Kornia RootSIFT 41px   57.83              48.48               49.01 \n",
      "Kornia SIFT 32px       58.47              47.76               48.70 \n",
      "Kornia SIFT 41px       58.14              47.30               48.30 \n",
      "OpenCV_SIFT 32px       53.16              45.93               46.00 \n",
      "OpenCV_SIFT 41px       54.10              46.09               46.29 \n",
      "------------------------------------------------------------------------------\n"
     ]
    }
   ],
   "source": [
    "# copy-adopted from here https://github.com/hpatches/hpatches-benchmark/blob/master/python/extract_opencv_sift.py\n",
    "import cv2\n",
    "import numpy as np\n",
    "\n",
    "\n",
    "def get_center_kp(PS):\n",
    "    c = PS/2.0\n",
    "    center_kp = cv2.KeyPoint()\n",
    "    center_kp.pt = (float(c),float(c))\n",
    "    center_kp.size = PS/5.303\n",
    "    return center_kp\n",
    "\n",
    "sift = cv2.SIFT_create()\n",
    "\n",
    "descs_out_dir = 'data/descriptors'\n",
    "download_dataset_to = 'data/dataset'\n",
    "\n",
    "\n",
    "for PS in [32, 41]:\n",
    "    desc_name = 'OpenCV_SIFT'\n",
    "    def extract_opencv_sift(patch):\n",
    "        return sift.compute((255*patch).astype(np.uint8),[get_center_kp(PS)])[1][0].reshape(128)\n",
    "    desc_dict = full_evaluation(extract_opencv_sift,\n",
    "                                desc_name,\n",
    "                                path_to_save_dataset = download_dataset_to,\n",
    "                                path_to_save_descriptors = descs_out_dir,\n",
    "                                path_to_save_mAP = results_dir,\n",
    "                                patch_size = PS, \n",
    "                                device = torch.device('cuda:0'), \n",
    "                           distance='euclidean',\n",
    "                           backend='pytorch-cuda')\n",
    "    full_results_dict[f'{desc_name} {PS}px'] = desc_dict\n",
    "clear_output()\n",
    "print_results_table(full_results_dict)\n"
   ]
  },
  {
   "cell_type": "markdown",
   "metadata": {},
   "source": [
    "## OpenCV RootSIFT"
   ]
  },
  {
   "cell_type": "code",
   "execution_count": 5,
   "metadata": {},
   "outputs": [
    {
     "name": "stdout",
     "output_type": "stream",
     "text": [
      "------------------------------------------------------------------------------\n",
      "Mean Average Precision wrt Lowe SNN ratio criterion on UBC Phototour Revisited\n",
      "------------------------------------------------------------------------------\n",
      "trained on       liberty notredame  liberty yosemite  notredame yosemite\n",
      "tested  on           yosemite           notredame            liberty\n",
      "------------------------------------------------------------------------------\n",
      "Kornia RootSIFT 32px   58.24              49.07               49.65 \n",
      "Kornia RootSIFT 41px   57.83              48.48               49.01 \n",
      "Kornia SIFT 32px       58.47              47.76               48.70 \n",
      "Kornia SIFT 41px       58.14              47.30               48.30 \n",
      "OpenCV_SIFT 32px       53.16              45.93               46.00 \n",
      "OpenCV_SIFT 41px       54.10              46.09               46.29 \n",
      "OpenCV_RootSIFT 32px   53.50              47.16               47.37 \n",
      "OpenCV_RootSIFT 41px   54.19              47.20               47.37 \n",
      "------------------------------------------------------------------------------\n"
     ]
    }
   ],
   "source": [
    "import cv2\n",
    "import numpy as np\n",
    "\n",
    "sift = cv2.SIFT_create()\n",
    "def extract_opencv_rootsift(patch):\n",
    "    desc =  sift.compute((255*patch).astype(np.uint8),[get_center_kp(PS)])[1][0].reshape(1,-1)\n",
    "    desc /= desc.sum(axis=1, keepdims=True) + 1e-8\n",
    "    desc = np.sqrt(desc)\n",
    "    return desc\n",
    "\n",
    "\n",
    "for PS in [32, 41]:\n",
    "    desc_name = 'OpenCV_RootSIFT'\n",
    "    desc_dict = full_evaluation(extract_opencv_rootsift,\n",
    "                                desc_name,\n",
    "                                path_to_save_dataset = download_dataset_to,\n",
    "                                path_to_save_descriptors = descs_out_dir,\n",
    "                                path_to_save_mAP = results_dir,\n",
    "                                patch_size = PS, \n",
    "                                device = torch.device('cuda:0'), \n",
    "                           distance='euclidean',\n",
    "                           backend='pytorch-cuda')\n",
    "    full_results_dict[f'{desc_name} {PS}px'] = desc_dict\n",
    "clear_output()\n",
    "print_results_table(full_results_dict)"
   ]
  },
  {
   "cell_type": "markdown",
   "metadata": {},
   "source": []
  },
  {
   "cell_type": "markdown",
   "metadata": {},
   "source": [
    "What else do we have in OpenCV 4.4? \n",
    "- VGG (ConvexOpt). It is very cool descriptor, but there is no information about which subset provided descriptors were learned on :(\n",
    "- LATCH (learned on yosemite)\n",
    "- BoostDesc. Same as VGG\n",
    "- DAISY. Same as VGG\n",
    "- FREAK\n",
    "- LUCID\n",
    "- some others, which I haven't yet tried.\n",
    "\n",
    "Let's go!"
   ]
  },
  {
   "cell_type": "markdown",
   "metadata": {},
   "source": [
    "# [LATCH](https://arxiv.org/abs/1501.03719)\n",
    "\n",
    "It is binary learned descriptor, learned on `yosemite` sequence, as stated in the paper."
   ]
  },
  {
   "cell_type": "code",
   "execution_count": 6,
   "metadata": {
    "scrolled": false
   },
   "outputs": [
    {
     "name": "stdout",
     "output_type": "stream",
     "text": [
      "------------------------------------------------------------------------------\n",
      "Mean Average Precision wrt Lowe SNN ratio criterion on UBC Phototour Revisited\n",
      "------------------------------------------------------------------------------\n",
      "trained on       liberty notredame  liberty yosemite  notredame yosemite\n",
      "tested  on           yosemite           notredame            liberty\n",
      "------------------------------------------------------------------------------\n",
      "Kornia RootSIFT 32px   58.24              49.07               49.65 \n",
      "Kornia RootSIFT 41px   57.83              48.48               49.01 \n",
      "Kornia SIFT 32px       58.47              47.76               48.70 \n",
      "Kornia SIFT 41px       58.14              47.30               48.30 \n",
      "OpenCV_SIFT 32px       53.16              45.93               46.00 \n",
      "OpenCV_SIFT 41px       54.10              46.09               46.29 \n",
      "OpenCV_RootSIFT 32px   53.50              47.16               47.37 \n",
      "OpenCV_RootSIFT 41px   54.19              47.20               47.37 \n",
      "OpenCV_LATCH 65px  -----  -----        -----  37.26        -----  39.08\n",
      "------------------------------------------------------------------------------\n"
     ]
    }
   ],
   "source": [
    "desc = cv2.xfeatures2d.LATCH_create()\n",
    "\n",
    "def extract_latch(patch):\n",
    "    return desc.compute((255*patch).astype(np.uint8),\n",
    "                        [get_center_kp(PS)])[1][0].reshape(-1)\n",
    "\n",
    "descs_out_dir = 'data/descriptors'\n",
    "download_dataset_to = 'data/dataset'\n",
    "\n",
    "for PS in [65]: #32  crashes for LATCH.\n",
    "    desc_name = 'OpenCV_LATCH'\n",
    "    models = {\"yosemite\": extract_latch}\n",
    "    desc_dict = full_evaluation(models,\n",
    "                                desc_name,\n",
    "                                path_to_save_dataset = download_dataset_to,\n",
    "                                path_to_save_descriptors = descs_out_dir,\n",
    "                                path_to_save_mAP = results_dir,\n",
    "                                patch_size = PS, \n",
    "                                device = torch.device('cuda:0'), \n",
    "                           distance='hamming',\n",
    "                           backend='numpy')\n",
    "    full_results_dict[f'{desc_name} {PS}px'] = desc_dict\n",
    "clear_output()\n",
    "print_results_table(full_results_dict)"
   ]
  },
  {
   "cell_type": "markdown",
   "metadata": {},
   "source": [
    "# [LUCID](https://papers.nips.cc/paper/4706-locally-uniform-comparison-image-descriptor)\n",
    "\n",
    "That is very simple descriptor - sorted pxiel intensities. "
   ]
  },
  {
   "cell_type": "code",
   "execution_count": 7,
   "metadata": {
    "scrolled": false
   },
   "outputs": [
    {
     "name": "stdout",
     "output_type": "stream",
     "text": [
      "------------------------------------------------------------------------------\n",
      "Mean Average Precision wrt Lowe SNN ratio criterion on UBC Phototour Revisited\n",
      "------------------------------------------------------------------------------\n",
      "trained on       liberty notredame  liberty yosemite  notredame yosemite\n",
      "tested  on           yosemite           notredame            liberty\n",
      "------------------------------------------------------------------------------\n",
      "Kornia RootSIFT 32px   58.24              49.07               49.65 \n",
      "Kornia RootSIFT 41px   57.83              48.48               49.01 \n",
      "Kornia SIFT 32px       58.47              47.76               48.70 \n",
      "Kornia SIFT 41px       58.14              47.30               48.30 \n",
      "OpenCV_SIFT 32px       53.16              45.93               46.00 \n",
      "OpenCV_SIFT 41px       54.10              46.09               46.29 \n",
      "OpenCV_RootSIFT 32px   53.50              47.16               47.37 \n",
      "OpenCV_RootSIFT 41px   54.19              47.20               47.37 \n",
      "OpenCV_LATCH 65px  -----  -----        -----  37.26        -----  39.08\n",
      "OpenCV_LUCID 32px      20.37              23.08               27.24 \n",
      "------------------------------------------------------------------------------\n"
     ]
    }
   ],
   "source": [
    "desc = cv2.xfeatures2d.LUCID_create()\n",
    "def extract_lucid(patch):\n",
    "    return desc.compute(cv2.cvtColor((255*patch).astype(np.uint8),cv2.COLOR_GRAY2RGB),\n",
    "                        [get_center_kp(PS)])[1][0].reshape(-1)\n",
    "\n",
    "descs_out_dir = 'data/descriptors'\n",
    "download_dataset_to = 'data/dataset'\n",
    "\n",
    "for PS in [32]:\n",
    "    desc_name = 'OpenCV_LUCID'\n",
    "    desc_dict = full_evaluation(extract_lucid,\n",
    "                                desc_name,\n",
    "                                path_to_save_dataset = download_dataset_to,\n",
    "                                path_to_save_descriptors = descs_out_dir,\n",
    "                                path_to_save_mAP = results_dir,\n",
    "                                patch_size = PS, \n",
    "                                device = torch.device('cuda:0'), \n",
    "                           distance='hamming',\n",
    "                           backend='numpy')\n",
    "    full_results_dict[f'{desc_name} {PS}px'] = desc_dict\n",
    "clear_output()\n",
    "print_results_table(full_results_dict)"
   ]
  },
  {
   "cell_type": "code",
   "execution_count": null,
   "metadata": {},
   "outputs": [],
   "source": []
  },
  {
   "cell_type": "code",
   "execution_count": 11,
   "metadata": {},
   "outputs": [
    {
     "name": "stdout",
     "output_type": "stream",
     "text": [
      "------------------------------------------------------------------------------\n",
      "Mean Average Precision wrt Lowe SNN ratio criterion on UBC Phototour Revisited\n",
      "------------------------------------------------------------------------------\n",
      "trained on       liberty notredame  liberty yosemite  notredame yosemite\n",
      "tested  on           yosemite           notredame            liberty\n",
      "------------------------------------------------------------------------------\n",
      "Kornia RootSIFT 32px   58.24              49.07               49.65 \n",
      "Kornia RootSIFT 41px   57.83              48.48               49.01 \n",
      "Kornia SIFT 32px       58.47              47.76               48.70 \n",
      "Kornia SIFT 41px       58.14              47.30               48.30 \n",
      "OpenCV_SIFT 32px       53.16              45.93               46.00 \n",
      "OpenCV_SIFT 41px       54.10              46.09               46.29 \n",
      "OpenCV_RootSIFT 32px   53.50              47.16               47.37 \n",
      "OpenCV_RootSIFT 41px   54.19              47.20               47.37 \n",
      "OpenCV_LATCH 65px  -----  -----        -----  37.26        -----  39.08\n",
      "OpenCV_LUCID 32px      20.37              23.08               27.24 \n",
      "skimage_BRIEF 65px     52.68              44.82               46.56 \n",
      "------------------------------------------------------------------------------\n"
     ]
    }
   ],
   "source": [
    "import numpy as np\n",
    "from skimage.feature import BRIEF\n",
    "def extract_skimage_BRIEF(patch):\n",
    "    BR.extract(patch.astype(np.float64), np.array([PS/2.0, PS/2.0]).reshape(1,2))\n",
    "    return BR.descriptors.astype(np.float32)\n",
    "\n",
    "descs_out_dir = 'data/descriptors'\n",
    "download_dataset_to = 'data/dataset'\n",
    "\n",
    "for PS in [65]:\n",
    "    BR = BRIEF(patch_size = PS)\n",
    "    desc_name = 'skimage_BRIEF'\n",
    "    desc_dict = full_evaluation(extract_skimage_BRIEF,\n",
    "                                desc_name,\n",
    "                                path_to_save_dataset = download_dataset_to,\n",
    "                                path_to_save_descriptors = descs_out_dir,\n",
    "                                path_to_save_mAP = results_dir,\n",
    "                                patch_size = PS, \n",
    "                                device = torch.device('cuda:0'), \n",
    "                           distance='hamming',\n",
    "                           backend='numpy')\n",
    "    full_results_dict[f'{desc_name} {PS}px'] = desc_dict\n",
    "clear_output()\n",
    "print_results_table(full_results_dict)"
   ]
  },
  {
   "cell_type": "markdown",
   "metadata": {},
   "source": [
    "If you use the benchmark, please cite it:\n",
    "\n",
    "    @misc{BrownRevisited2020,\n",
    "      title={UBC PhotoTour Revisied},\n",
    "      author={Mishkin, Dmytro},\n",
    "      year={2020},\n",
    "      url = {https://github.com/ducha-aiki/brown_phototour_revisited}\n",
    "    }"
   ]
  }
 ],
 "metadata": {
  "kernelspec": {
   "display_name": "Python 3",
   "language": "python",
   "name": "python3"
  },
  "language_info": {
   "codemirror_mode": {
    "name": "ipython",
    "version": 3
   },
   "file_extension": ".py",
   "mimetype": "text/x-python",
   "name": "python",
   "nbconvert_exporter": "python",
   "pygments_lexer": "ipython3",
   "version": "3.7.5"
  }
 },
 "nbformat": 4,
 "nbformat_minor": 2
}
