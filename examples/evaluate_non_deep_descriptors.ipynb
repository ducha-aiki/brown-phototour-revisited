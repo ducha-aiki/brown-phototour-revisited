{
 "cells": [
  {
   "cell_type": "markdown",
   "metadata": {},
   "source": [
    "# Benchmarking the non-deep descriptors"
   ]
  },
  {
   "cell_type": "markdown",
   "metadata": {},
   "source": [
    "Here we will evaluate all descriptors, which are available easily enough, e.g. from OpenCV or other python implementation. There will be final comparison table in the end of this notebook.\n",
    "\n",
    "\n",
    "### Disclaimer: binary descriptors are not typically run on normalized patches\n",
    "\n",
    "\n",
    "E.g. this benchmark shows quite strong performance of BRIEF descriptor as implemented in skimage. However,\n",
    "typically binary descriptors are optimized for speed and run on the (non-normalized) image, rather than cropped-blurred-rescaled patches. That is why BRIEF-in-the-wild or FREAK-in-the-wild would probably perform noticably worse than, currect benchmark shows"
   ]
  },
  {
   "cell_type": "code",
   "execution_count": 1,
   "metadata": {},
   "outputs": [],
   "source": [
    "#!pip install opencv-python --user\n",
    "#!pip install opencv-contrib-python --user \n",
    "#!pip install kornia"
   ]
  },
  {
   "cell_type": "markdown",
   "metadata": {},
   "source": [
    "# SIFT and RootSIFT, [kornia](https://kornia.readthedocs.io/en/latest/feature.html#kornia.feature.SIFTDescriptor) implementation"
   ]
  },
  {
   "cell_type": "code",
   "execution_count": 2,
   "metadata": {},
   "outputs": [
    {
     "name": "stdout",
     "output_type": "stream",
     "text": [
      "------------------------------------------------------------------------------\n",
      "Mean Average Precision wrt Lowe SNN ratio criterion on UBC Phototour Revisited\n",
      "------------------------------------------------------------------------------\n",
      "trained on       liberty notredame  liberty yosemite  notredame yosemite\n",
      "tested  on           yosemite           notredame            liberty\n",
      "------------------------------------------------------------------------------\n",
      "Kornia RootSIFT 32px   58.24              49.07               49.65 \n",
      "Kornia RootSIFT 41px   57.83              48.48               49.01 \n",
      "------------------------------------------------------------------------------\n"
     ]
    }
   ],
   "source": [
    "from IPython.display import clear_output\n",
    "import torch\n",
    "import kornia\n",
    "from brown_phototour_revisited.benchmarking import *\n",
    "\n",
    "descs_out_dir = 'data/descriptors'\n",
    "download_dataset_to = 'data/dataset'\n",
    "results_dir = 'data/mAP'\n",
    "\n",
    "full_results_dict = {}\n",
    "\n",
    "for patch_size in [32, 41]:\n",
    "    desc_name = 'Kornia RootSIFT'\n",
    "    model = kornia.feature.SIFTDescriptor(patch_size, rootsift=True).eval()\n",
    "    desc_dict = full_evaluation(model,\n",
    "                                desc_name,\n",
    "                                path_to_save_dataset = download_dataset_to,\n",
    "                                path_to_save_descriptors = descs_out_dir,\n",
    "                                path_to_save_mAP = results_dir,\n",
    "                                patch_size = patch_size, \n",
    "                                device = torch.device('cuda:0'), \n",
    "                           distance='euclidean',\n",
    "                           backend='pytorch-cuda')\n",
    "    full_results_dict[f'{desc_name} {patch_size}px'] = desc_dict\n",
    "clear_output()\n",
    "print_results_table(full_results_dict)"
   ]
  },
  {
   "cell_type": "code",
   "execution_count": 3,
   "metadata": {},
   "outputs": [
    {
     "name": "stdout",
     "output_type": "stream",
     "text": [
      "------------------------------------------------------------------------------\n",
      "Mean Average Precision wrt Lowe SNN ratio criterion on UBC Phototour Revisited\n",
      "------------------------------------------------------------------------------\n",
      "trained on       liberty notredame  liberty yosemite  notredame yosemite\n",
      "tested  on           yosemite           notredame            liberty\n",
      "------------------------------------------------------------------------------\n",
      "Kornia RootSIFT 32px   58.24              49.07               49.65 \n",
      "Kornia RootSIFT 41px   57.83              48.48               49.01 \n",
      "Kornia SIFT 32px       58.47              47.76               48.70 \n",
      "Kornia SIFT 41px       58.14              47.30               48.30 \n",
      "------------------------------------------------------------------------------\n"
     ]
    }
   ],
   "source": [
    "for patch_size in [32, 41]:\n",
    "    desc_name = 'Kornia SIFT'\n",
    "    model = kornia.feature.SIFTDescriptor(patch_size, rootsift=False).eval()\n",
    "    desc_dict = full_evaluation(model,\n",
    "                                'Kornia_SIFT',\n",
    "                                path_to_save_dataset = download_dataset_to,\n",
    "                                path_to_save_descriptors = descs_out_dir,\n",
    "                                path_to_save_mAP = results_dir,\n",
    "                                patch_size = patch_size, \n",
    "                                device = torch.device('cuda:0'), \n",
    "                           distance='euclidean',\n",
    "                           backend='pytorch-cuda')\n",
    "    full_results_dict[f'{desc_name} {patch_size}px'] = desc_dict\n",
    "clear_output()\n",
    "print_results_table(full_results_dict)"
   ]
  },
  {
   "cell_type": "markdown",
   "metadata": {},
   "source": [
    "# SIFT OpenCV\n",
    "\n",
    "Now we will try OpenCV SIFT. It expects not patches, but full image and keypoints, so we will create a single keypoint in the center of the patch."
   ]
  },
  {
   "cell_type": "code",
   "execution_count": 4,
   "metadata": {},
   "outputs": [
    {
     "name": "stdout",
     "output_type": "stream",
     "text": [
      "------------------------------------------------------------------------------\n",
      "Mean Average Precision wrt Lowe SNN ratio criterion on UBC Phototour Revisited\n",
      "------------------------------------------------------------------------------\n",
      "trained on       liberty notredame  liberty yosemite  notredame yosemite\n",
      "tested  on           yosemite           notredame            liberty\n",
      "------------------------------------------------------------------------------\n",
      "Kornia RootSIFT 32px   58.24              49.07               49.65 \n",
      "Kornia RootSIFT 41px   57.83              48.48               49.01 \n",
      "Kornia SIFT 32px       58.47              47.76               48.70 \n",
      "Kornia SIFT 41px       58.14              47.30               48.30 \n",
      "OpenCV_SIFT 32px       53.16              45.93               46.00 \n",
      "OpenCV_SIFT 41px       54.10              46.09               46.29 \n",
      "------------------------------------------------------------------------------\n"
     ]
    }
   ],
   "source": [
    "# copy-adopted from here https://github.com/hpatches/hpatches-benchmark/blob/master/python/extract_opencv_sift.py\n",
    "import cv2\n",
    "import numpy as np\n",
    "\n",
    "\n",
    "def get_center_kp(PS):\n",
    "    c = PS/2.0\n",
    "    center_kp = cv2.KeyPoint()\n",
    "    center_kp.pt = (float(c),float(c))\n",
    "    center_kp.size = PS/5.303\n",
    "    return center_kp\n",
    "\n",
    "sift = cv2.SIFT_create()\n",
    "\n",
    "descs_out_dir = 'data/descriptors'\n",
    "download_dataset_to = 'data/dataset'\n",
    "\n",
    "\n",
    "for PS in [32, 41]:\n",
    "    desc_name = 'OpenCV_SIFT'\n",
    "    def extract_opencv_sift(patch):\n",
    "        return sift.compute((255*patch).astype(np.uint8),[get_center_kp(PS)])[1][0].reshape(128)\n",
    "    desc_dict = full_evaluation(extract_opencv_sift,\n",
    "                                desc_name,\n",
    "                                path_to_save_dataset = download_dataset_to,\n",
    "                                path_to_save_descriptors = descs_out_dir,\n",
    "                                path_to_save_mAP = results_dir,\n",
    "                                patch_size = PS, \n",
    "                                device = torch.device('cuda:0'), \n",
    "                           distance='euclidean',\n",
    "                           backend='pytorch-cuda')\n",
    "    full_results_dict[f'{desc_name} {PS}px'] = desc_dict\n",
    "clear_output()\n",
    "print_results_table(full_results_dict)\n"
   ]
  },
  {
   "cell_type": "markdown",
   "metadata": {},
   "source": [
    "## OpenCV RootSIFT"
   ]
  },
  {
   "cell_type": "code",
   "execution_count": 5,
   "metadata": {},
   "outputs": [
    {
     "name": "stdout",
     "output_type": "stream",
     "text": [
      "------------------------------------------------------------------------------\n",
      "Mean Average Precision wrt Lowe SNN ratio criterion on UBC Phototour Revisited\n",
      "------------------------------------------------------------------------------\n",
      "trained on       liberty notredame  liberty yosemite  notredame yosemite\n",
      "tested  on           yosemite           notredame            liberty\n",
      "------------------------------------------------------------------------------\n",
      "Kornia RootSIFT 32px   58.24              49.07               49.65 \n",
      "Kornia RootSIFT 41px   57.83              48.48               49.01 \n",
      "Kornia SIFT 32px       58.47              47.76               48.70 \n",
      "Kornia SIFT 41px       58.14              47.30               48.30 \n",
      "OpenCV_SIFT 32px       53.16              45.93               46.00 \n",
      "OpenCV_SIFT 41px       54.10              46.09               46.29 \n",
      "OpenCV_RootSIFT 32px   53.50              47.16               47.37 \n",
      "OpenCV_RootSIFT 41px   54.19              47.20               47.37 \n",
      "------------------------------------------------------------------------------\n"
     ]
    }
   ],
   "source": [
    "import cv2\n",
    "import numpy as np\n",
    "\n",
    "sift = cv2.SIFT_create()\n",
    "def extract_opencv_rootsift(patch):\n",
    "    desc =  sift.compute((255*patch).astype(np.uint8),[get_center_kp(PS)])[1][0].reshape(1,-1)\n",
    "    desc /= desc.sum(axis=1, keepdims=True) + 1e-8\n",
    "    desc = np.sqrt(desc)\n",
    "    return desc\n",
    "\n",
    "\n",
    "for PS in [32, 41]:\n",
    "    desc_name = 'OpenCV_RootSIFT'\n",
    "    desc_dict = full_evaluation(extract_opencv_rootsift,\n",
    "                                desc_name,\n",
    "                                path_to_save_dataset = download_dataset_to,\n",
    "                                path_to_save_descriptors = descs_out_dir,\n",
    "                                path_to_save_mAP = results_dir,\n",
    "                                patch_size = PS, \n",
    "                                device = torch.device('cuda:0'), \n",
    "                           distance='euclidean',\n",
    "                           backend='pytorch-cuda')\n",
    "    full_results_dict[f'{desc_name} {PS}px'] = desc_dict\n",
    "clear_output()\n",
    "print_results_table(full_results_dict)"
   ]
  },
  {
   "cell_type": "markdown",
   "metadata": {},
   "source": []
  },
  {
   "cell_type": "markdown",
   "metadata": {},
   "source": [
    "What else do we have in OpenCV 4.4? \n",
    "- VGG (ConvexOpt). It is very cool descriptor, but there is no information about which subset provided descriptors were learned on :(\n",
    "- LATCH (learned on yosemite)\n",
    "- BoostDesc. Same as VGG\n",
    "- DAISY. Same as VGG\n",
    "- FREAK\n",
    "- LUCID\n",
    "- some others, which I haven't yet tried.\n",
    "\n",
    "Let's go!"
   ]
  },
  {
   "cell_type": "markdown",
   "metadata": {},
   "source": [
    "# [LATCH](https://arxiv.org/abs/1501.03719)\n",
    "\n",
    "It is binary learned descriptor, learned on `yosemite` sequence, as stated in the paper."
   ]
  },
  {
   "cell_type": "code",
   "execution_count": 6,
   "metadata": {
    "scrolled": false
   },
   "outputs": [
    {
     "name": "stdout",
     "output_type": "stream",
     "text": [
      "------------------------------------------------------------------------------\n",
      "Mean Average Precision wrt Lowe SNN ratio criterion on UBC Phototour Revisited\n",
      "------------------------------------------------------------------------------\n",
      "trained on       liberty notredame  liberty yosemite  notredame yosemite\n",
      "tested  on           yosemite           notredame            liberty\n",
      "------------------------------------------------------------------------------\n",
      "Kornia RootSIFT 32px   58.24              49.07               49.65 \n",
      "Kornia RootSIFT 41px   57.83              48.48               49.01 \n",
      "Kornia SIFT 32px       58.47              47.76               48.70 \n",
      "Kornia SIFT 41px       58.14              47.30               48.30 \n",
      "OpenCV_SIFT 32px       53.16              45.93               46.00 \n",
      "OpenCV_SIFT 41px       54.10              46.09               46.29 \n",
      "OpenCV_RootSIFT 32px   53.50              47.16               47.37 \n",
      "OpenCV_RootSIFT 41px   54.19              47.20               47.37 \n",
      "OpenCV_LATCH 65px  -----  -----        -----  37.26        -----  39.08\n",
      "------------------------------------------------------------------------------\n"
     ]
    }
   ],
   "source": [
    "desc = cv2.xfeatures2d.LATCH_create()\n",
    "\n",
    "def extract_latch(patch):\n",
    "    return desc.compute((255*patch).astype(np.uint8),\n",
    "                        [get_center_kp(PS)])[1][0].reshape(-1)\n",
    "\n",
    "descs_out_dir = 'data/descriptors'\n",
    "download_dataset_to = 'data/dataset'\n",
    "\n",
    "for PS in [65]: #32  crashes for LATCH.\n",
    "    desc_name = 'OpenCV_LATCH'\n",
    "    models = {\"yosemite\": extract_latch}\n",
    "    desc_dict = full_evaluation(models,\n",
    "                                desc_name,\n",
    "                                path_to_save_dataset = download_dataset_to,\n",
    "                                path_to_save_descriptors = descs_out_dir,\n",
    "                                path_to_save_mAP = results_dir,\n",
    "                                patch_size = PS, \n",
    "                                device = torch.device('cuda:0'), \n",
    "                           distance='hamming',\n",
    "                           backend='numpy')\n",
    "    full_results_dict[f'{desc_name} {PS}px'] = desc_dict\n",
    "clear_output()\n",
    "print_results_table(full_results_dict)"
   ]
  },
  {
   "cell_type": "markdown",
   "metadata": {},
   "source": [
    "# [LUCID](https://papers.nips.cc/paper/4706-locally-uniform-comparison-image-descriptor)\n",
    "\n",
    "That is very simple descriptor - sorted pxiel intensities. "
   ]
  },
  {
   "cell_type": "code",
   "execution_count": 7,
   "metadata": {
    "scrolled": false
   },
   "outputs": [
    {
     "name": "stdout",
     "output_type": "stream",
     "text": [
      "------------------------------------------------------------------------------\n",
      "Mean Average Precision wrt Lowe SNN ratio criterion on UBC Phototour Revisited\n",
      "------------------------------------------------------------------------------\n",
      "trained on       liberty notredame  liberty yosemite  notredame yosemite\n",
      "tested  on           yosemite           notredame            liberty\n",
      "------------------------------------------------------------------------------\n",
      "Kornia RootSIFT 32px   58.24              49.07               49.65 \n",
      "Kornia RootSIFT 41px   57.83              48.48               49.01 \n",
      "Kornia SIFT 32px       58.47              47.76               48.70 \n",
      "Kornia SIFT 41px       58.14              47.30               48.30 \n",
      "OpenCV_SIFT 32px       53.16              45.93               46.00 \n",
      "OpenCV_SIFT 41px       54.10              46.09               46.29 \n",
      "OpenCV_RootSIFT 32px   53.50              47.16               47.37 \n",
      "OpenCV_RootSIFT 41px   54.19              47.20               47.37 \n",
      "OpenCV_LATCH 65px  -----  -----        -----  37.26        -----  39.08\n",
      "OpenCV_LUCID 32px      20.37              23.08               27.24 \n",
      "------------------------------------------------------------------------------\n"
     ]
    }
   ],
   "source": [
    "desc = cv2.xfeatures2d.LUCID_create()\n",
    "def extract_lucid(patch):\n",
    "    return desc.compute(cv2.cvtColor((255*patch).astype(np.uint8),cv2.COLOR_GRAY2RGB),\n",
    "                        [get_center_kp(PS)])[1][0].reshape(-1)\n",
    "\n",
    "descs_out_dir = 'data/descriptors'\n",
    "download_dataset_to = 'data/dataset'\n",
    "\n",
    "for PS in [32]:\n",
    "    desc_name = 'OpenCV_LUCID'\n",
    "    desc_dict = full_evaluation(extract_lucid,\n",
    "                                desc_name,\n",
    "                                path_to_save_dataset = download_dataset_to,\n",
    "                                path_to_save_descriptors = descs_out_dir,\n",
    "                                path_to_save_mAP = results_dir,\n",
    "                                patch_size = PS, \n",
    "                                device = torch.device('cuda:0'), \n",
    "                           distance='hamming',\n",
    "                           backend='numpy')\n",
    "    full_results_dict[f'{desc_name} {PS}px'] = desc_dict\n",
    "clear_output()\n",
    "print_results_table(full_results_dict)"
   ]
  },
  {
   "cell_type": "code",
   "execution_count": null,
   "metadata": {},
   "outputs": [],
   "source": []
  },
  {
   "cell_type": "code",
   "execution_count": 8,
   "metadata": {},
   "outputs": [
    {
     "name": "stdout",
     "output_type": "stream",
     "text": [
      "------------------------------------------------------------------------------\n",
      "Mean Average Precision wrt Lowe SNN ratio criterion on UBC Phototour Revisited\n",
      "------------------------------------------------------------------------------\n",
      "trained on       liberty notredame  liberty yosemite  notredame yosemite\n",
      "tested  on           yosemite           notredame            liberty\n",
      "------------------------------------------------------------------------------\n",
      "Kornia RootSIFT 32px   58.24              49.07               49.65 \n",
      "Kornia RootSIFT 41px   57.83              48.48               49.01 \n",
      "Kornia SIFT 32px       58.47              47.76               48.70 \n",
      "Kornia SIFT 41px       58.14              47.30               48.30 \n",
      "OpenCV_SIFT 32px       53.16              45.93               46.00 \n",
      "OpenCV_SIFT 41px       54.10              46.09               46.29 \n",
      "OpenCV_RootSIFT 32px   53.50              47.16               47.37 \n",
      "OpenCV_RootSIFT 41px   54.19              47.20               47.37 \n",
      "OpenCV_LATCH 65px  -----  -----        -----  37.26        -----  39.08\n",
      "OpenCV_LUCID 32px      20.37              23.08               27.24 \n",
      "skimage_BRIEF 65px     52.68              44.82               46.56 \n",
      "------------------------------------------------------------------------------\n"
     ]
    }
   ],
   "source": [
    "import numpy as np\n",
    "from skimage.feature import BRIEF\n",
    "def extract_skimage_BRIEF(patch):\n",
    "    BR.extract(patch.astype(np.float64), np.array([PS/2.0, PS/2.0]).reshape(1,2))\n",
    "    return BR.descriptors.astype(np.float32)\n",
    "\n",
    "descs_out_dir = 'data/descriptors'\n",
    "download_dataset_to = 'data/dataset'\n",
    "\n",
    "for PS in [65]:\n",
    "    BR = BRIEF(patch_size = PS)\n",
    "    desc_name = 'skimage_BRIEF'\n",
    "    desc_dict = full_evaluation(extract_skimage_BRIEF,\n",
    "                                desc_name,\n",
    "                                path_to_save_dataset = download_dataset_to,\n",
    "                                path_to_save_descriptors = descs_out_dir,\n",
    "                                path_to_save_mAP = results_dir,\n",
    "                                patch_size = PS, \n",
    "                                device = torch.device('cuda:0'), \n",
    "                           distance='hamming',\n",
    "                           backend='numpy')\n",
    "    full_results_dict[f'{desc_name} {PS}px'] = desc_dict\n",
    "clear_output()\n",
    "print_results_table(full_results_dict)"
   ]
  },
  {
   "cell_type": "markdown",
   "metadata": {},
   "source": [
    "# RootSIFTPCA"
   ]
  },
  {
   "cell_type": "markdown",
   "metadata": {},
   "source": [
    "Now, let's try to learn [PCA-RootSIFT](https://hal.inria.fr/hal-01145656/document).  We will need to first extract all patches, learn PCA and evaluate it normally - train on 1 dataset, test on 2 other."
   ]
  },
  {
   "cell_type": "code",
   "execution_count": 9,
   "metadata": {},
   "outputs": [
    {
     "name": "stdout",
     "output_type": "stream",
     "text": [
      "# Found cached data data/dataset/liberty.pt\n",
      "data/descriptors/Kornia RootSIFT_32px_liberty.npy already exists, loading\n",
      "# Found cached data data/dataset/notredame.pt\n",
      "data/descriptors/Kornia RootSIFT_32px_notredame.npy already exists, loading\n",
      "# Found cached data data/dataset/yosemite.pt\n",
      "data/descriptors/Kornia RootSIFT_32px_yosemite.npy already exists, loading\n"
     ]
    }
   ],
   "source": [
    "from brown_phototour_revisited.extraction import extract_pytorchinput_descriptors\n",
    "from sklearn.decomposition import PCA\n",
    "\n",
    "patch_size = 32\n",
    "desc_name = 'Kornia RootSIFT'\n",
    "descs_out_dir = 'data/descriptors'\n",
    "download_dataset_to = 'data/dataset'\n",
    "model = kornia.feature.SIFTDescriptor(patch_size, rootsift=True).eval()\n",
    "descriptors = {}\n",
    "PCAs = {}\n",
    "for ds_name in ['liberty', 'notredame', 'yosemite']:\n",
    "    descriptors[ds_name] = extract_pytorchinput_descriptors(model,\n",
    "                                                            desc_name,\n",
    "                                                            ds_name,\n",
    "                                                            download_dataset_to,\n",
    "                                                            descs_out_dir,\n",
    "                                                            patch_size,\n",
    "                                                            device = torch.device('cuda:0'))['descriptors']\n",
    "    \n",
    "    PCAs[ds_name] = PCA(128)\n",
    "    PCAs[ds_name].fit(descriptors[ds_name])"
   ]
  },
  {
   "cell_type": "code",
   "execution_count": null,
   "metadata": {},
   "outputs": [],
   "source": []
  },
  {
   "cell_type": "markdown",
   "metadata": {},
   "source": [
    "Now lets convert PCA into pytorch model and apply root normalization then"
   ]
  },
  {
   "cell_type": "code",
   "execution_count": 10,
   "metadata": {},
   "outputs": [],
   "source": [
    "from torch import nn\n",
    "import torch.nn.functional as F\n",
    "class RootSIFTPCA(nn.Module):\n",
    "    def __init__(self, PS, PCA):\n",
    "        super(RootSIFTPCA, self).__init__()\n",
    "        self.rootsift = kornia.feature.SIFTDescriptor(PS, rootsift=True)\n",
    "        self.register_buffer('mean', torch.from_numpy(PCA.mean_).float())\n",
    "        self.register_buffer('components', torch.from_numpy(PCA.components_).float())\n",
    "        return\n",
    "    def forward(self, x):\n",
    "        rootsift = self.rootsift(x)\n",
    "        pca = torch.mm(rootsift - self.mean, self.components.t())\n",
    "        pca_root = torch.sqrt(torch.abs(pca)) * torch.sign(pca)\n",
    "        return F.normalize(pca_root, dim=1, p=2)"
   ]
  },
  {
   "cell_type": "code",
   "execution_count": null,
   "metadata": {},
   "outputs": [],
   "source": []
  },
  {
   "cell_type": "code",
   "execution_count": 11,
   "metadata": {},
   "outputs": [
    {
     "name": "stdout",
     "output_type": "stream",
     "text": [
      "------------------------------------------------------------------------------\n",
      "Mean Average Precision wrt Lowe SNN ratio criterion on UBC Phototour Revisited\n",
      "------------------------------------------------------------------------------\n",
      "trained on       liberty notredame  liberty yosemite  notredame yosemite\n",
      "tested  on           yosemite           notredame            liberty\n",
      "------------------------------------------------------------------------------\n",
      "Kornia RootSIFT 32px   58.24              49.07               49.65 \n",
      "Kornia RootSIFT 41px   57.83              48.48               49.01 \n",
      "Kornia SIFT 32px       58.47              47.76               48.70 \n",
      "Kornia SIFT 41px       58.14              47.30               48.30 \n",
      "OpenCV_SIFT 32px       53.16              45.93               46.00 \n",
      "OpenCV_SIFT 41px       54.10              46.09               46.29 \n",
      "OpenCV_RootSIFT 32px   53.50              47.16               47.37 \n",
      "OpenCV_RootSIFT 41px   54.19              47.20               47.37 \n",
      "OpenCV_LATCH 65px  -----  -----        -----  37.26        -----  39.08\n",
      "OpenCV_LUCID 32px      20.37              23.08               27.24 \n",
      "skimage_BRIEF 65px     52.68              44.82               46.56 \n",
      "Kornia RootSIFTPCA 3 60.73  60.64        50.80  50.24        52.46  52.02\n",
      "------------------------------------------------------------------------------\n"
     ]
    }
   ],
   "source": [
    "models = {}\n",
    "patch_size = 32\n",
    "for ds_name in ['liberty', 'notredame', 'yosemite']:\n",
    "    models[ds_name] = RootSIFTPCA(patch_size, PCAs[ds_name])\n",
    "    \n",
    "\n",
    "desc_name = 'Kornia RootSIFTPCA'\n",
    "desc_dict = full_evaluation(models,\n",
    "                            desc_name,\n",
    "                            path_to_save_dataset = download_dataset_to,\n",
    "                            path_to_save_descriptors = descs_out_dir,\n",
    "                            path_to_save_mAP = results_dir,\n",
    "                            patch_size = patch_size, \n",
    "                            device = torch.device('cuda:0'), \n",
    "                       distance='euclidean',\n",
    "                       backend='pytorch-cuda')\n",
    "full_results_dict[f'{desc_name} {patch_size}px'] = desc_dict\n",
    "clear_output()\n",
    "print_results_table(full_results_dict)\n",
    "\n"
   ]
  },
  {
   "cell_type": "markdown",
   "metadata": {},
   "source": [
    "\n",
    "## Multiple Kernel Local Descriptor\n",
    "\n",
    "\n",
    "Now let's check the most advanced hand-crafted and learned, but not deep descriptor - MKD.\n",
    "It is available from https://github.com/manyids2/mkd_local_descriptor and described in [Understanding and Improving Kernel Local Descriptors](https://arxiv.org/abs/1811.11147) IJCV 2018 paper."
   ]
  },
  {
   "cell_type": "code",
   "execution_count": 12,
   "metadata": {},
   "outputs": [],
   "source": [
    "#!pip install https://github.com/manyids2/mkd_local_descriptor/archive/1.0.2.tar.gz --user"
   ]
  },
  {
   "cell_type": "code",
   "execution_count": 13,
   "metadata": {},
   "outputs": [
    {
     "name": "stdout",
     "output_type": "stream",
     "text": [
      "------------------------------------------------------------------------------\n",
      "Mean Average Precision wrt Lowe SNN ratio criterion on UBC Phototour Revisited\n",
      "------------------------------------------------------------------------------\n",
      "trained on       liberty notredame  liberty yosemite  notredame yosemite\n",
      "tested  on           yosemite           notredame            liberty\n",
      "------------------------------------------------------------------------------\n",
      "Kornia RootSIFT 32px   58.24              49.07               49.65 \n",
      "Kornia RootSIFT 41px   57.83              48.48               49.01 \n",
      "Kornia SIFT 32px       58.47              47.76               48.70 \n",
      "Kornia SIFT 41px       58.14              47.30               48.30 \n",
      "OpenCV_SIFT 32px       53.16              45.93               46.00 \n",
      "OpenCV_SIFT 41px       54.10              46.09               46.29 \n",
      "OpenCV_RootSIFT 32px   53.50              47.16               47.37 \n",
      "OpenCV_RootSIFT 41px   54.19              47.20               47.37 \n",
      "OpenCV_LATCH 65px  -----  -----        -----  37.26        -----  39.08\n",
      "OpenCV_LUCID 32px      20.37              23.08               27.24 \n",
      "skimage_BRIEF 65px     52.68              44.82               46.56 \n",
      "Kornia RootSIFTPCA 3 60.73  60.64        50.80  50.24        52.46  52.02\n",
      "MKD-concat-None-32 3 57.85  57.85        49.92  49.92        48.77  48.77\n",
      "MKD-concat-pca-32 32 64.45  64.31        54.80  53.86        54.12  53.60\n",
      "MKD-concat-pcaws-32  66.58  66.04        56.42  55.19        55.20  54.77\n",
      "MKD-concat-pcawt-32  68.04  67.60        57.21  55.75        56.26  55.48\n",
      "MKD-concat-lw-32 32p 72.27  71.95        60.88  58.78        60.68  59.10\n",
      "------------------------------------------------------------------------------\n"
     ]
    }
   ],
   "source": [
    "import mkd_local_descriptor as mm\n",
    "# Use model_file trained on PhotoTourism for 32x32 patch_size.\n",
    "patch_size = 32\n",
    "for white in [None, 'pca', 'pcaws', 'pcawt', 'lw']:\n",
    "    models = {}\n",
    "    for ds_name in ['liberty', 'notredame', 'yosemite']:\n",
    "        models[ds_name] =  mm.MKD(dtype='concat',             # 'concat', 'polar', 'cart'.\n",
    "                 patch_size=patch_size,\n",
    "                 whitening=white,             # None, 'lw', 'pca', 'pcaws', 'pcawt'.\n",
    "                 training_set=ds_name,     # 'liberty', 'notredame', 'yosemite'\n",
    "                 reduce_dims=128,\n",
    "                 do_l2=True,\n",
    "                 do_final_l2=True,\n",
    "                 do_gmask=True,\n",
    "                 device='cuda')\n",
    "    desc_name = f'MKD-concat-{white}-{patch_size}'\n",
    "    desc_dict = full_evaluation(models,\n",
    "                                desc_name,\n",
    "                                path_to_save_dataset = download_dataset_to,\n",
    "                                path_to_save_descriptors = descs_out_dir,\n",
    "                                path_to_save_mAP = results_dir,\n",
    "                                patch_size = patch_size, \n",
    "                                device = torch.device('cuda:0'), \n",
    "                           distance='euclidean',\n",
    "                           backend='pytorch-cuda')\n",
    "    full_results_dict[f'{desc_name} {patch_size}px'] = desc_dict\n",
    "    clear_output()\n",
    "    print_results_table(full_results_dict)"
   ]
  },
  {
   "cell_type": "markdown",
   "metadata": {},
   "source": [
    "Wow, MKD-concat-lw-32 seems to be very good! Let's compare it to HardNet"
   ]
  },
  {
   "cell_type": "code",
   "execution_count": 14,
   "metadata": {},
   "outputs": [
    {
     "name": "stdout",
     "output_type": "stream",
     "text": [
      "------------------------------------------------------------------------------\n",
      "Mean Average Precision wrt Lowe SNN ratio criterion on UBC Phototour Revisited\n",
      "------------------------------------------------------------------------------\n",
      "trained on       liberty notredame  liberty yosemite  notredame yosemite\n",
      "tested  on           yosemite           notredame            liberty\n",
      "------------------------------------------------------------------------------\n",
      "Kornia RootSIFT 32px   58.24              49.07               49.65 \n",
      "Kornia RootSIFT 41px   57.83              48.48               49.01 \n",
      "Kornia SIFT 32px       58.47              47.76               48.70 \n",
      "Kornia SIFT 41px       58.14              47.30               48.30 \n",
      "OpenCV_SIFT 32px       53.16              45.93               46.00 \n",
      "OpenCV_SIFT 41px       54.10              46.09               46.29 \n",
      "OpenCV_RootSIFT 32px   53.50              47.16               47.37 \n",
      "OpenCV_RootSIFT 41px   54.19              47.20               47.37 \n",
      "OpenCV_LATCH 65px  -----  -----        -----  37.26        -----  39.08\n",
      "OpenCV_LUCID 32px      20.37              23.08               27.24 \n",
      "skimage_BRIEF 65px     52.68              44.82               46.56 \n",
      "Kornia RootSIFTPCA 3 60.73  60.64        50.80  50.24        52.46  52.02\n",
      "MKD-concat-None-32 3 57.85  57.85        49.92  49.92        48.77  48.77\n",
      "MKD-concat-pca-32 32 64.45  64.31        54.80  53.86        54.12  53.60\n",
      "MKD-concat-pcaws-32  66.58  66.04        56.42  55.19        55.20  54.77\n",
      "MKD-concat-pcawt-32  68.04  67.60        57.21  55.75        56.26  55.48\n",
      "MKD-concat-lw-32 32p 72.27  71.95        60.88  58.78        60.68  59.10\n",
      "HardNet 32px       70.64  70.31        61.93  59.56        63.06  61.64\n",
      "------------------------------------------------------------------------------\n"
     ]
    }
   ],
   "source": [
    "desc_name = 'HardNet'\n",
    "patch_size = 32\n",
    "desc_dict =  load_cached_results(desc_name,\n",
    "                    learned_on = ['liberty', 'notredame', 'yosemite'],\n",
    "                    path_to_save_dataset = download_dataset_to,\n",
    "                    path_to_save_descriptors = descs_out_dir,\n",
    "                    path_to_save_mAP = results_dir,\n",
    "                    patch_size = patch_size)\n",
    "\n",
    "full_results_dict[f'{desc_name} {patch_size}px'] = desc_dict\n",
    "clear_output()\n",
    "print_results_table(full_results_dict)"
   ]
  },
  {
   "cell_type": "markdown",
   "metadata": {},
   "source": [
    "If you use the benchmark, please cite it:\n",
    "\n",
    "    @misc{BrownRevisited2020,\n",
    "      title={UBC PhotoTour Revisied},\n",
    "      author={Mishkin, Dmytro},\n",
    "      year={2020},\n",
    "      url = {https://github.com/ducha-aiki/brown_phototour_revisited}\n",
    "    }"
   ]
  }
 ],
 "metadata": {
  "kernelspec": {
   "display_name": "Python 3",
   "language": "python",
   "name": "python3"
  },
  "language_info": {
   "codemirror_mode": {
    "name": "ipython",
    "version": 3
   },
   "file_extension": ".py",
   "mimetype": "text/x-python",
   "name": "python",
   "nbconvert_exporter": "python",
   "pygments_lexer": "ipython3",
   "version": "3.7.5"
  }
 },
 "nbformat": 4,
 "nbformat_minor": 2
}
