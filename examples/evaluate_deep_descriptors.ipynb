{
 "cells": [
  {
   "cell_type": "markdown",
   "metadata": {},
   "source": [
    "# Benchmarking deep descriptors"
   ]
  },
  {
   "cell_type": "markdown",
   "metadata": {},
   "source": [
    "Here we will evaluate all descriptors, which are available easily enough, e.g. from kornia or authors github implementation. There will be final comparison table in the end of this notebook."
   ]
  },
  {
   "cell_type": "code",
   "execution_count": null,
   "metadata": {},
   "outputs": [],
   "source": []
  },
  {
   "cell_type": "markdown",
   "metadata": {},
   "source": [
    "# SIFT and RootSIFT, [kornia](https://kornia.readthedocs.io/en/latest/feature.html#kornia.feature.SIFTDescriptor) implementation"
   ]
  },
  {
   "cell_type": "code",
   "execution_count": 3,
   "metadata": {},
   "outputs": [],
   "source": [
    "from IPython.display import clear_output\n",
    "import torch\n",
    "import kornia\n",
    "from brown_phototour_revisited.benchmarking import *\n",
    "def nice_results_string(desc_name, res_dict):\n",
    "    if 'liberty' in res_dict:\n",
    "        lib = f'{(100*res_dict[\"liberty\"]):.2f}'\n",
    "    else:\n",
    "        lib = '-----'\n",
    "    if 'notredame' in res_dict:\n",
    "        notre = f'{(100*res_dict[\"notredame\"]):.2f}'\n",
    "    else:\n",
    "        notre = '-----'\n",
    "    if 'yosemite' in res_dict:\n",
    "        yos = f'{(100*res_dict[\"yosemite\"]):.2f}'\n",
    "    else:\n",
    "        yos = '-----'\n",
    "    \n",
    "    res = f'{desc_name[:20].ljust(20)}   {lib}      {notre}      {yos} '\n",
    "    return res\n",
    "TITLE = 'desc_name              liberty   notredame  yosemite'\n",
    "\n",
    "descs_out_dir = 'data/descriptors'\n",
    "download_dataset_to = 'data/dataset'\n",
    "results_dir = 'data/mAP'\n",
    "\n",
    "full_results_dict = {}\n",
    "patch_size = 32"
   ]
  },
  {
   "cell_type": "code",
   "execution_count": 7,
   "metadata": {},
   "outputs": [
    {
     "name": "stdout",
     "output_type": "stream",
     "text": [
      "desc_name              liberty   notredame  yosemite\n",
      "HardNet 32px           -----      61.93      70.64 \n"
     ]
    }
   ],
   "source": [
    "desc_name = 'HardNet'\n",
    "model = kornia.feature.HardNet(True).eval()\n",
    "models = {'liberty': model}\n",
    "desc_dict = full_evaluation(models,\n",
    "                            desc_name,\n",
    "                            path_to_save_dataset = download_dataset_to,\n",
    "                            path_to_save_descriptors = descs_out_dir,\n",
    "                            path_to_save_mAP = results_dir,\n",
    "                            patch_size = patch_size, \n",
    "                            device = torch.device('cuda:0'), \n",
    "                       distance='euclidean',\n",
    "                       backend='pytorch-cuda')\n",
    "full_results_dict[f'{desc_name} {patch_size}px'] = desc_dict\n",
    "clear_output()\n",
    "print (TITLE)\n",
    "for k, v in full_results_dict.items():\n",
    "    print (nice_results_string(k,  v['liberty']))\n"
   ]
  },
  {
   "cell_type": "code",
   "execution_count": null,
   "metadata": {},
   "outputs": [],
   "source": []
  },
  {
   "cell_type": "code",
   "execution_count": 52,
   "metadata": {},
   "outputs": [
    {
     "name": "stdout",
     "output_type": "stream",
     "text": [
      "desc_name              liberty   notredame  yosemite\n",
      "HardNet 32px           -----      -----      ----- \n",
      "TFeat 32px             -----      -----      ----- \n",
      "SoftMargin 32px        -----      -----      ----- \n",
      "R2D2_center_grayscal   54.98      53.18      61.47 \n",
      "R2D2_MenCenter_grays   56.25      54.50      63.27 \n",
      "SOSNet 32px            -----      -----      ----- \n"
     ]
    }
   ],
   "source": [
    "desc_name = 'SOSNet'\n",
    "model = kornia.feature.SOSNet(True).eval()\n",
    "models = {'liberty': model}\n",
    "desc_dict = full_evaluation(models,\n",
    "                            desc_name,\n",
    "                            path_to_save_dataset = download_dataset_to,\n",
    "                            path_to_save_descriptors = descs_out_dir,\n",
    "                            path_to_save_mAP = results_dir,\n",
    "                            patch_size = patch_size, \n",
    "                            device = torch.device('cuda:0'), \n",
    "                       distance='euclidean',\n",
    "                       backend='pytorch-cuda')\n",
    "full_results_dict[f'{desc_name} {patch_size}px'] = desc_dict\n",
    "clear_output()\n",
    "print (TITLE)\n",
    "for k, v in full_results_dict.items():\n",
    "    print (nice_results_string(k,  v['3rdparty']))\n"
   ]
  },
  {
   "cell_type": "markdown",
   "metadata": {},
   "source": [
    "# TFeat\n"
   ]
  },
  {
   "cell_type": "code",
   "execution_count": 8,
   "metadata": {},
   "outputs": [],
   "source": [
    "# https://github.com/vbalnt/tfeat/blob/master/tfeat_model.py\n",
    "import torch\n",
    "from torch import nn\n",
    "import torch.nn.functional as F\n",
    "\n",
    "class TNet(nn.Module):\n",
    "    \"\"\"TFeat model definition\n",
    "    \"\"\"\n",
    "    def __init__(self):\n",
    "        super(TNet, self).__init__()\n",
    "        self.features = nn.Sequential(\n",
    "            nn.InstanceNorm2d(1, affine=False),\n",
    "            nn.Conv2d(1, 32, kernel_size=7),\n",
    "            nn.Tanh(),\n",
    "            nn.MaxPool2d(kernel_size=2, stride=2),\n",
    "            nn.Conv2d(32, 64, kernel_size=6),\n",
    "            nn.Tanh()\n",
    "        )\n",
    "        self.descr = nn.Sequential(\n",
    "            nn.Linear(64 * 8 * 8, 128),\n",
    "            nn.Tanh()\n",
    "        )\n",
    "\n",
    "    def forward(self, x):\n",
    "        x = self.features(x)\n",
    "        x = x.view(x.size(0), -1)\n",
    "        x = self.descr(x)\n",
    "        return x"
   ]
  },
  {
   "cell_type": "code",
   "execution_count": 11,
   "metadata": {},
   "outputs": [
    {
     "name": "stdout",
     "output_type": "stream",
     "text": [
      "--2020-09-14 17:38:09--  https://github.com/vbalnt/tfeat/raw/master/pretrained-models/tfeat-liberty.params\n",
      "Resolving github.com (github.com)... 140.82.121.3\n",
      "Connecting to github.com (github.com)|140.82.121.3|:443... connected.\n",
      "HTTP request sent, awaiting response... 302 Found\n",
      "Location: https://raw.githubusercontent.com/vbalnt/tfeat/master/pretrained-models/tfeat-liberty.params [following]\n",
      "--2020-09-14 17:38:10--  https://raw.githubusercontent.com/vbalnt/tfeat/master/pretrained-models/tfeat-liberty.params\n",
      "Resolving raw.githubusercontent.com (raw.githubusercontent.com)... 199.232.16.133\n",
      "Connecting to raw.githubusercontent.com (raw.githubusercontent.com)|199.232.16.133|:443... connected.\n",
      "HTTP request sent, awaiting response... 200 OK\n",
      "Length: 2400533 (2.3M) [application/octet-stream]\n",
      "Saving to: ‘tfeat-liberty.params’\n",
      "\n",
      "100%[======================================>] 2,400,533   --.-K/s   in 0.08s   \n",
      "\n",
      "2020-09-14 17:38:17 (30.4 MB/s) - ‘tfeat-liberty.params’ saved [2400533/2400533]\n",
      "\n",
      "--2020-09-14 17:38:17--  https://github.com/vbalnt/tfeat/raw/master/pretrained-models/tfeat-yosemite.params\n",
      "Resolving github.com (github.com)... 140.82.121.3\n",
      "Connecting to github.com (github.com)|140.82.121.3|:443... connected.\n",
      "HTTP request sent, awaiting response... 302 Found\n",
      "Location: https://raw.githubusercontent.com/vbalnt/tfeat/master/pretrained-models/tfeat-yosemite.params [following]\n",
      "--2020-09-14 17:38:18--  https://raw.githubusercontent.com/vbalnt/tfeat/master/pretrained-models/tfeat-yosemite.params\n",
      "Resolving raw.githubusercontent.com (raw.githubusercontent.com)... 199.232.16.133\n",
      "Connecting to raw.githubusercontent.com (raw.githubusercontent.com)|199.232.16.133|:443... connected.\n",
      "HTTP request sent, awaiting response... 200 OK\n",
      "Length: 2400533 (2.3M) [application/octet-stream]\n",
      "Saving to: ‘tfeat-yosemite.params’\n",
      "\n",
      "100%[======================================>] 2,400,533   --.-K/s   in 0.06s   \n",
      "\n",
      "2020-09-14 17:38:26 (40.4 MB/s) - ‘tfeat-yosemite.params’ saved [2400533/2400533]\n",
      "\n",
      "--2020-09-14 17:38:26--  https://github.com/vbalnt/tfeat/raw/master/pretrained-models/tfeat-notredame.params\n",
      "Resolving github.com (github.com)... 140.82.121.3\n",
      "Connecting to github.com (github.com)|140.82.121.3|:443... connected.\n",
      "HTTP request sent, awaiting response... 302 Found\n",
      "Location: https://raw.githubusercontent.com/vbalnt/tfeat/master/pretrained-models/tfeat-notredame.params [following]\n",
      "--2020-09-14 17:38:26--  https://raw.githubusercontent.com/vbalnt/tfeat/master/pretrained-models/tfeat-notredame.params\n",
      "Resolving raw.githubusercontent.com (raw.githubusercontent.com)... 199.232.16.133\n",
      "Connecting to raw.githubusercontent.com (raw.githubusercontent.com)|199.232.16.133|:443... connected.\n",
      "HTTP request sent, awaiting response... 200 OK\n",
      "Length: 2400533 (2.3M) [application/octet-stream]\n",
      "Saving to: ‘tfeat-notredame.params’\n",
      "\n",
      "100%[======================================>] 2,400,533   --.-K/s   in 0.08s   \n",
      "\n",
      "2020-09-14 17:38:34 (29.5 MB/s) - ‘tfeat-notredame.params’ saved [2400533/2400533]\n",
      "\n"
     ]
    }
   ],
   "source": [
    "!wget https://github.com/vbalnt/tfeat/raw/master/pretrained-models/tfeat-liberty.params\n",
    "!wget https://github.com/vbalnt/tfeat/raw/master/pretrained-models/tfeat-yosemite.params\n",
    "!wget https://github.com/vbalnt/tfeat/raw/master/pretrained-models/tfeat-notredame.params"
   ]
  },
  {
   "cell_type": "code",
   "execution_count": 14,
   "metadata": {},
   "outputs": [
    {
     "name": "stdout",
     "output_type": "stream",
     "text": [
      "desc_name              liberty   notredame  yosemite\n",
      "HardNet 32px           -----      61.93      70.64 \n",
      "TFeat 32px             -----      54.99      65.45 \n"
     ]
    }
   ],
   "source": [
    "desc_name = 'TFeat'\n",
    "tfeat_lib = TNet()\n",
    "tfeat_lib.load_state_dict(torch.load('tfeat-liberty.params'))\n",
    "\n",
    "tfeat_notre = TNet()\n",
    "tfeat_notre.load_state_dict(torch.load('tfeat-notredame.params'))\n",
    "                            \n",
    "tfeat_yos = TNet()\n",
    "tfeat_yos.load_state_dict(torch.load('tfeat-yosemite.params'))\n",
    "\n",
    "\n",
    "models = {'liberty': tfeat_lib,\n",
    "          'yosemite': tfeat_yos,\n",
    "          'notredame': tfeat_notre}\n",
    "desc_dict = full_evaluation(models,\n",
    "                            desc_name,\n",
    "                            path_to_save_dataset = download_dataset_to,\n",
    "                            path_to_save_descriptors = descs_out_dir,\n",
    "                            path_to_save_mAP = results_dir,\n",
    "                            patch_size = patch_size, \n",
    "                            device = torch.device('cuda:0'), \n",
    "                       distance='euclidean',\n",
    "                       backend='pytorch-cuda')\n",
    "full_results_dict[f'{desc_name} {patch_size}px'] = desc_dict\n",
    "clear_output()\n",
    "print (TITLE)\n",
    "for k, v in full_results_dict.items():\n",
    "    print (nice_results_string(k,  v['liberty']))"
   ]
  },
  {
   "cell_type": "markdown",
   "metadata": {},
   "source": [
    "# Dynamic Soft Margin HardNet"
   ]
  },
  {
   "cell_type": "code",
   "execution_count": 15,
   "metadata": {},
   "outputs": [
    {
     "name": "stdout",
     "output_type": "stream",
     "text": [
      "--2020-09-14 17:53:50--  https://github.com/lg-zhang/dynamic-soft-margin-pytorch/raw/master/pretrained/liberty_float/model.state_dict\n",
      "Resolving github.com (github.com)... 140.82.121.3\n",
      "Connecting to github.com (github.com)|140.82.121.3|:443... connected.\n",
      "HTTP request sent, awaiting response... 302 Found\n",
      "Location: https://raw.githubusercontent.com/lg-zhang/dynamic-soft-margin-pytorch/master/pretrained/liberty_float/model.state_dict [following]\n",
      "--2020-09-14 17:53:51--  https://raw.githubusercontent.com/lg-zhang/dynamic-soft-margin-pytorch/master/pretrained/liberty_float/model.state_dict\n",
      "Resolving raw.githubusercontent.com (raw.githubusercontent.com)... 199.232.16.133\n",
      "Connecting to raw.githubusercontent.com (raw.githubusercontent.com)|199.232.16.133|:443... connected.\n",
      "HTTP request sent, awaiting response... 200 OK\n",
      "Length: 5347698 (5.1M) [application/octet-stream]\n",
      "Saving to: ‘dsm_lib.pth’\n",
      "\n",
      "100%[======================================>] 5,347,698   27.9MB/s   in 0.2s   \n",
      "\n",
      "2020-09-14 17:53:59 (27.9 MB/s) - ‘dsm_lib.pth’ saved [5347698/5347698]\n",
      "\n",
      "--2020-09-14 17:53:59--  https://github.com/lg-zhang/dynamic-soft-margin-pytorch/raw/master/pretrained/notredame_float/model.state_dict\n",
      "Resolving github.com (github.com)... 140.82.121.3\n",
      "Connecting to github.com (github.com)|140.82.121.3|:443... connected.\n",
      "HTTP request sent, awaiting response... 302 Found\n",
      "Location: https://raw.githubusercontent.com/lg-zhang/dynamic-soft-margin-pytorch/master/pretrained/notredame_float/model.state_dict [following]\n",
      "--2020-09-14 17:53:59--  https://raw.githubusercontent.com/lg-zhang/dynamic-soft-margin-pytorch/master/pretrained/notredame_float/model.state_dict\n",
      "Resolving raw.githubusercontent.com (raw.githubusercontent.com)... 199.232.16.133\n",
      "Connecting to raw.githubusercontent.com (raw.githubusercontent.com)|199.232.16.133|:443... connected.\n",
      "HTTP request sent, awaiting response... 200 OK\n",
      "Length: 5347698 (5.1M) [application/octet-stream]\n",
      "Saving to: ‘dsm_notre.pth’\n",
      "\n",
      "100%[======================================>] 5,347,698   25.4MB/s   in 0.2s   \n",
      "\n",
      "2020-09-14 17:54:07 (25.4 MB/s) - ‘dsm_notre.pth’ saved [5347698/5347698]\n",
      "\n",
      "--2020-09-14 17:54:07--  https://github.com/lg-zhang/dynamic-soft-margin-pytorch/raw/master/pretrained/yosemite_float/model.state_dict\n",
      "Resolving github.com (github.com)... 140.82.121.3\n",
      "Connecting to github.com (github.com)|140.82.121.3|:443... connected.\n",
      "HTTP request sent, awaiting response... 302 Found\n",
      "Location: https://raw.githubusercontent.com/lg-zhang/dynamic-soft-margin-pytorch/master/pretrained/yosemite_float/model.state_dict [following]\n",
      "--2020-09-14 17:54:08--  https://raw.githubusercontent.com/lg-zhang/dynamic-soft-margin-pytorch/master/pretrained/yosemite_float/model.state_dict\n",
      "Resolving raw.githubusercontent.com (raw.githubusercontent.com)... 199.232.16.133\n",
      "Connecting to raw.githubusercontent.com (raw.githubusercontent.com)|199.232.16.133|:443... connected.\n",
      "HTTP request sent, awaiting response... 200 OK\n",
      "Length: 5347698 (5.1M) [application/octet-stream]\n",
      "Saving to: ‘dsm_yos.pth’\n",
      "\n",
      "100%[======================================>] 5,347,698   28.2MB/s   in 0.2s   \n",
      "\n",
      "2020-09-14 17:54:16 (28.2 MB/s) - ‘dsm_yos.pth’ saved [5347698/5347698]\n",
      "\n"
     ]
    }
   ],
   "source": [
    "!wget https://github.com/lg-zhang/dynamic-soft-margin-pytorch/raw/master/pretrained/liberty_float/model.state_dict -O dsm_lib.pth\n",
    "!wget https://github.com/lg-zhang/dynamic-soft-margin-pytorch/raw/master/pretrained/notredame_float/model.state_dict -O dsm_notre.pth\n",
    "!wget https://github.com/lg-zhang/dynamic-soft-margin-pytorch/raw/master/pretrained/yosemite_float/model.state_dict -O dsm_yos.pth"
   ]
  },
  {
   "cell_type": "code",
   "execution_count": 16,
   "metadata": {},
   "outputs": [
    {
     "name": "stdout",
     "output_type": "stream",
     "text": [
      "desc_name              liberty   notredame  yosemite\n",
      "HardNet 32px           -----      61.93      70.64 \n",
      "TFeat 32px             -----      54.99      65.45 \n",
      "SoftMargin 32px        -----      61.82      69.29 \n"
     ]
    }
   ],
   "source": [
    "desc_name = 'SoftMargin'\n",
    "tfeat_lib = kornia.feature.HardNet(False).eval()\n",
    "tfeat_lib.load_state_dict(torch.load('dsm_lib.pth'))\n",
    "\n",
    "tfeat_notre = kornia.feature.HardNet(False).eval()\n",
    "tfeat_notre.load_state_dict(torch.load('dsm_notre.pth'))\n",
    "                            \n",
    "tfeat_yos = kornia.feature.HardNet(False).eval()\n",
    "tfeat_yos.load_state_dict(torch.load('dsm_yos.pth'))\n",
    "\n",
    "\n",
    "models = {'liberty': tfeat_lib,\n",
    "          'yosemite': tfeat_yos,\n",
    "          'notredame': tfeat_notre}\n",
    "desc_dict = full_evaluation(models,\n",
    "                            desc_name,\n",
    "                            path_to_save_dataset = download_dataset_to,\n",
    "                            path_to_save_descriptors = descs_out_dir,\n",
    "                            path_to_save_mAP = results_dir,\n",
    "                            patch_size = patch_size, \n",
    "                            device = torch.device('cuda:0'), \n",
    "                       distance='euclidean',\n",
    "                       backend='pytorch-cuda')\n",
    "full_results_dict[f'{desc_name} {patch_size}px'] = desc_dict\n",
    "clear_output()\n",
    "print (TITLE)\n",
    "for k, v in full_results_dict.items():\n",
    "    print (nice_results_string(k,  v['liberty']))"
   ]
  },
  {
   "cell_type": "markdown",
   "metadata": {},
   "source": [
    "# HardNetPS\n",
    "\n",
    "HardNetPS is the HardNet version, trained on the [PS dataset](https://github.com/rmitra/PS-Dataset), which does very well on HPatches, but badly on IMC benchmark."
   ]
  },
  {
   "cell_type": "code",
   "execution_count": 17,
   "metadata": {},
   "outputs": [
    {
     "name": "stdout",
     "output_type": "stream",
     "text": [
      "--2020-09-14 18:07:35--  https://github.com/DagnyT/hardnet/raw/master/pretrained/3rd_party/HardNetPS/HardNetPS.pth\n",
      "Resolving github.com (github.com)... 140.82.121.3\n",
      "Connecting to github.com (github.com)|140.82.121.3|:443... connected.\n",
      "HTTP request sent, awaiting response... 302 Found\n",
      "Location: https://raw.githubusercontent.com/DagnyT/hardnet/master/pretrained/3rd_party/HardNetPS/HardNetPS.pth [following]\n",
      "--2020-09-14 18:07:35--  https://raw.githubusercontent.com/DagnyT/hardnet/master/pretrained/3rd_party/HardNetPS/HardNetPS.pth\n",
      "Resolving raw.githubusercontent.com (raw.githubusercontent.com)... 199.232.16.133\n",
      "Connecting to raw.githubusercontent.com (raw.githubusercontent.com)|199.232.16.133|:443... connected.\n",
      "HTTP request sent, awaiting response... 200 OK\n",
      "Length: 5351453 (5.1M) [application/octet-stream]\n",
      "Saving to: ‘HardNetPS.pth’\n",
      "\n",
      "100%[======================================>] 5,351,453   30.1MB/s   in 0.2s   \n",
      "\n",
      "2020-09-14 18:07:44 (30.1 MB/s) - ‘HardNetPS.pth’ saved [5351453/5351453]\n",
      "\n"
     ]
    }
   ],
   "source": [
    "!wget https://github.com/DagnyT/hardnet/raw/master/pretrained/3rd_party/HardNetPS/HardNetPS.pth"
   ]
  },
  {
   "cell_type": "code",
   "execution_count": 55,
   "metadata": {},
   "outputs": [
    {
     "name": "stdout",
     "output_type": "stream",
     "text": [
      "desc_name              liberty   notredame  yosemite\n",
      "HardNet 32px           -----      61.93      70.64 \n",
      "TFeat 32px             -----      54.99      65.45 \n",
      "SoftMargin 32px        -----      61.82      69.29 \n",
      "R2D2_center_grayscal   -----      -----      ----- \n",
      "R2D2_MenCenter_grays   -----      -----      ----- \n",
      "SOSNet 32px            -----      62.09      70.03 \n",
      "HardNetPS 32px         -----      -----      ----- \n"
     ]
    }
   ],
   "source": [
    "class HardNetPS(nn.Module):\n",
    "    def __init__(self):\n",
    "        super(HardNetPS, self).__init__()\n",
    "        self.features = nn.Sequential(\n",
    "        nn.Conv2d(1, 32, kernel_size=3, padding=1, bias = True),\n",
    "        nn.BatchNorm2d(32, affine=True),\n",
    "        nn.ReLU(),\n",
    "        nn.Conv2d(32, 32, kernel_size=3, padding=1, bias = True),\n",
    "        nn.BatchNorm2d(32, affine=True),\n",
    "        nn.ReLU(),\n",
    "        nn.Conv2d(32, 64, kernel_size=3, stride=2, padding=1, bias = True),\n",
    "        nn.BatchNorm2d(64, affine=True),\n",
    "        nn.ReLU(),\n",
    "        nn.Conv2d(64, 64, kernel_size=3, padding=1, bias = True),\n",
    "        nn.BatchNorm2d(64, affine=True),\n",
    "        nn.ReLU(),\n",
    "        nn.Conv2d(64, 128, kernel_size=3, stride=2,padding=1, bias = True),\n",
    "        nn.BatchNorm2d(128, affine=True),\n",
    "        nn.ReLU(),\n",
    "        nn.Conv2d(128, 128, kernel_size=3, padding=1, bias = True),\n",
    "        nn.BatchNorm2d(128, affine=True),\n",
    "        nn.ReLU(),\n",
    "        nn.Conv2d(128, 128, kernel_size=8, bias = True)\n",
    "    )\n",
    "    def input_norm(self,x):\n",
    "        flat = x.view(x.size(0), -1)\n",
    "        mp = torch.mean(flat, dim=1)\n",
    "        sp = torch.std(flat, dim=1) + 1e-7\n",
    "        return (x - mp.unsqueeze(-1).unsqueeze(-1).unsqueeze(-1).expand_as(x)) / sp.unsqueeze(-1).unsqueeze(-1).unsqueeze(1).expand_as(x)\n",
    "\n",
    "    def forward(self, input):\n",
    "        x_features = self.features(self.input_norm(input))\n",
    "        x = x_features.view(x_features.size(0), -1)\n",
    "        return F.normalize(x, p=2, dim=1)\n",
    "\n",
    "\n",
    "desc_name = 'HardNetPS'\n",
    "model = HardNetPS().eval()\n",
    "model.load_state_dict(torch.load('HardNetPS.pth'))\n",
    "desc_dict = full_evaluation(model,\n",
    "                            desc_name,\n",
    "                            path_to_save_dataset = download_dataset_to,\n",
    "                            path_to_save_descriptors = descs_out_dir,\n",
    "                            path_to_save_mAP = results_dir,\n",
    "                            patch_size = patch_size, \n",
    "                            device = torch.device('cuda:0'), \n",
    "                       distance='euclidean',\n",
    "                       backend='pytorch-cuda')\n",
    "full_results_dict[f'{desc_name} {patch_size}px'] = desc_dict\n",
    "clear_output()\n",
    "print (TITLE)\n",
    "for k, v in full_results_dict.items():\n",
    "    if k == 'HardNetPS':\n",
    "        print (nice_results_string(k,  v['3rdparty']))\n",
    "    else:\n",
    "        print (nice_results_string(k,  v['liberty']))\n"
   ]
  },
  {
   "cell_type": "markdown",
   "metadata": {},
   "source": [
    "# R2D2\n",
    "\n",
    "That is NOT fair benchmark for R2D2 for 2 reasons. First, it is dense descriptor, which outputs 32x32 descriptor field for 32x32 patch. We take central pixel, which is kind of reasonable, but not the thing, R2D2 is trained for.\n",
    "Second, it expects RGB patches and Brown dataset is in grayscale. \n",
    "Anyway, let's try!\n"
   ]
  },
  {
   "cell_type": "code",
   "execution_count": 19,
   "metadata": {},
   "outputs": [
    {
     "name": "stdout",
     "output_type": "stream",
     "text": [
      "--2020-09-14 18:09:07--  https://github.com/naver/r2d2/raw/master/models/r2d2_WASF_N8_big.pt\n",
      "Resolving github.com (github.com)... 140.82.121.3\n",
      "Connecting to github.com (github.com)|140.82.121.3|:443... connected.\n",
      "HTTP request sent, awaiting response... 302 Found\n",
      "Location: https://raw.githubusercontent.com/naver/r2d2/master/models/r2d2_WASF_N8_big.pt [following]\n",
      "--2020-09-14 18:09:08--  https://raw.githubusercontent.com/naver/r2d2/master/models/r2d2_WASF_N8_big.pt\n",
      "Resolving raw.githubusercontent.com (raw.githubusercontent.com)... 199.232.16.133\n",
      "Connecting to raw.githubusercontent.com (raw.githubusercontent.com)|199.232.16.133|:443... connected.\n",
      "HTTP request sent, awaiting response... 200 OK\n",
      "Length: 4171550 (4.0M) [application/octet-stream]\n",
      "Saving to: ‘r2d2_WASF_N8_big.pt’\n",
      "\n",
      "100%[======================================>] 4,171,550   25.8MB/s   in 0.2s   \n",
      "\n",
      "2020-09-14 18:09:16 (25.8 MB/s) - ‘r2d2_WASF_N8_big.pt’ saved [4171550/4171550]\n",
      "\n"
     ]
    }
   ],
   "source": [
    "!wget https://raw.githubusercontent.com/naver/r2d2/master/nets/patchnet.py\n",
    "!wget https://github.com/naver/r2d2/raw/master/models/r2d2_WASF_N8_big.pt"
   ]
  },
  {
   "cell_type": "code",
   "execution_count": 30,
   "metadata": {},
   "outputs": [
    {
     "name": "stdout",
     "output_type": "stream",
     "text": [
      "Quad_L2Net_ConfCFS(mchan=6)\n"
     ]
    },
    {
     "data": {
      "text/plain": [
       "Quad_L2Net_ConfCFS(\n",
       "  (ops): ModuleList(\n",
       "    (0): Conv2d(3, 48, kernel_size=(3, 3), stride=(1, 1), padding=(1, 1))\n",
       "    (1): BatchNorm2d(48, eps=1e-05, momentum=0.1, affine=False, track_running_stats=True)\n",
       "    (2): ReLU(inplace=True)\n",
       "    (3): Conv2d(48, 48, kernel_size=(3, 3), stride=(1, 1), padding=(1, 1))\n",
       "    (4): BatchNorm2d(48, eps=1e-05, momentum=0.1, affine=False, track_running_stats=True)\n",
       "    (5): ReLU(inplace=True)\n",
       "    (6): Conv2d(48, 96, kernel_size=(3, 3), stride=(1, 1), padding=(1, 1))\n",
       "    (7): BatchNorm2d(96, eps=1e-05, momentum=0.1, affine=False, track_running_stats=True)\n",
       "    (8): ReLU(inplace=True)\n",
       "    (9): Conv2d(96, 96, kernel_size=(3, 3), stride=(1, 1), padding=(2, 2), dilation=(2, 2))\n",
       "    (10): BatchNorm2d(96, eps=1e-05, momentum=0.1, affine=False, track_running_stats=True)\n",
       "    (11): ReLU(inplace=True)\n",
       "    (12): Conv2d(96, 192, kernel_size=(3, 3), stride=(1, 1), padding=(2, 2), dilation=(2, 2))\n",
       "    (13): BatchNorm2d(192, eps=1e-05, momentum=0.1, affine=False, track_running_stats=True)\n",
       "    (14): ReLU(inplace=True)\n",
       "    (15): Conv2d(192, 192, kernel_size=(3, 3), stride=(1, 1), padding=(4, 4), dilation=(4, 4))\n",
       "    (16): BatchNorm2d(192, eps=1e-05, momentum=0.1, affine=False, track_running_stats=True)\n",
       "    (17): ReLU(inplace=True)\n",
       "    (18): Conv2d(192, 192, kernel_size=(2, 2), stride=(1, 1), padding=(2, 2), dilation=(4, 4))\n",
       "    (19): BatchNorm2d(192, eps=1e-05, momentum=0.1, affine=False, track_running_stats=True)\n",
       "    (20): Conv2d(192, 192, kernel_size=(2, 2), stride=(1, 1), padding=(4, 4), dilation=(8, 8))\n",
       "    (21): BatchNorm2d(192, eps=1e-05, momentum=0.1, affine=False, track_running_stats=True)\n",
       "    (22): Conv2d(192, 128, kernel_size=(2, 2), stride=(1, 1), padding=(8, 8), dilation=(16, 16))\n",
       "  )\n",
       "  (clf): Conv2d(128, 2, kernel_size=(1, 1), stride=(1, 1))\n",
       "  (sal): Conv2d(128, 1, kernel_size=(1, 1), stride=(1, 1))\n",
       ")"
      ]
     },
     "execution_count": 30,
     "metadata": {},
     "output_type": "execute_result"
    }
   ],
   "source": [
    "from patchnet import *\n",
    "\n",
    "R2D2 = Quad_L2Net_ConfCFS(mchan=6)\n",
    "weights = torch.load('r2d2_WASF_N8_big.pt')\n",
    "print (weights['net'])\n",
    "weights2 = {}\n",
    "for k, v in weights['state_dict'].items():\n",
    "    weights2[k.replace('module.','')] = v\n",
    "R2D2.load_state_dict(weights2)\n",
    "R2D2.eval()"
   ]
  },
  {
   "cell_type": "code",
   "execution_count": 38,
   "metadata": {},
   "outputs": [],
   "source": [
    "class R2D2_Center(torch.nn.Module):\n",
    "    def __init__(self, r2d2):\n",
    "        super(R2D2_Center, self).__init__()\n",
    "        self.r2d2 = r2d2\n",
    "        return\n",
    "    def forward(self,x):\n",
    "        orig_out = self.r2d2([x.repeat(1,3,1,1)])\n",
    "        return orig_out['descriptors'][0][...,16,16]"
   ]
  },
  {
   "cell_type": "code",
   "execution_count": 64,
   "metadata": {},
   "outputs": [],
   "source": [
    "eval_r2d2 = R2D2_Center(R2D2)"
   ]
  },
  {
   "cell_type": "code",
   "execution_count": 65,
   "metadata": {},
   "outputs": [],
   "source": [
    "desc_name = 'R2D2_center_grayscale'\n",
    "desc_dict = full_evaluation(eval_r2d2,\n",
    "                            desc_name,\n",
    "                            path_to_save_dataset = download_dataset_to,\n",
    "                            path_to_save_descriptors = descs_out_dir,\n",
    "                            path_to_save_mAP = results_dir,\n",
    "                            patch_size = patch_size, \n",
    "                            device = torch.device('cuda:0'), \n",
    "                       distance='euclidean',\n",
    "                       backend='pytorch-cuda')\n",
    "full_results_dict[f'{desc_name} {patch_size}px'] = desc_dict\n",
    "clear_output()"
   ]
  },
  {
   "cell_type": "code",
   "execution_count": null,
   "metadata": {},
   "outputs": [],
   "source": []
  },
  {
   "cell_type": "code",
   "execution_count": null,
   "metadata": {},
   "outputs": [],
   "source": []
  },
  {
   "cell_type": "markdown",
   "metadata": {},
   "source": [
    "Another way to get patch descriptors, is to take the mean over central descriptors. Let's try 3x3 window."
   ]
  },
  {
   "cell_type": "code",
   "execution_count": 67,
   "metadata": {},
   "outputs": [
    {
     "name": "stdout",
     "output_type": "stream",
     "text": [
      "desc_name              liberty   notredame  yosemite\n",
      "HardNet 32px           -----      61.93      70.64 \n",
      "TFeat 32px             -----      54.99      65.45 \n",
      "SoftMargin 32px        -----      61.82      69.29 \n",
      "R2D2_center_grayscal   54.98      53.18      61.47 \n",
      "R2D2_MenCenter_grays   56.25      54.50      63.27 \n",
      "SOSNet 32px            -----      62.09      70.03 \n",
      "HardNetPS 32px         -----      -----      ----- \n"
     ]
    }
   ],
   "source": [
    "class R2D2_MeanCenter(torch.nn.Module):\n",
    "    def __init__(self, r2d2):\n",
    "        super(R2D2_MeanCenter, self).__init__()\n",
    "        self.r2d2 = r2d2\n",
    "        return\n",
    "    def forward(self,x):\n",
    "        orig_out = self.r2d2([x.repeat(1,3,1,1)])\n",
    "        return F.normalize(orig_out['descriptors'][0][...,15:18, 15:18].mean(dim=-1).mean(dim=-1), p=2, dim=1)\n",
    "\n",
    "eval_r2d2 = R2D2_MeanCenter(R2D2)\n",
    "desc_name = 'R2D2_MenCenter_grayscale'\n",
    "desc_dict = full_evaluation(eval_r2d2,\n",
    "                            desc_name,\n",
    "                            path_to_save_dataset = download_dataset_to,\n",
    "                            path_to_save_descriptors = descs_out_dir,\n",
    "                            path_to_save_mAP = results_dir,\n",
    "                            patch_size = patch_size, \n",
    "                            device = torch.device('cuda:0'), \n",
    "                       distance='euclidean',\n",
    "                       backend='pytorch-cuda')\n",
    "full_results_dict[f'{desc_name} {patch_size}px'] = desc_dict\n",
    "clear_output()\n",
    "print (TITLE)\n",
    "for k, v in full_results_dict.items():\n",
    "    if k == 'HardNetPS':\n",
    "        print (nice_results_string(k,  v['3rdparty']))\n",
    "    elif 'R2D2' in k:\n",
    "        print (nice_results_string(k,  v['3rdparty']))\n",
    "    else:\n",
    "        print (nice_results_string(k,  v['liberty']))"
   ]
  },
  {
   "cell_type": "markdown",
   "metadata": {},
   "source": [
    "A bit better, but not enough. OK, that was an unfair comparison anyway and R2D2 performed quite decently."
   ]
  },
  {
   "cell_type": "code",
   "execution_count": 78,
   "metadata": {},
   "outputs": [],
   "source": [
    "TITLE1 = 'trained on       liberty notredame  liberty yosemite  notredame yosemite'\n",
    "TITLE2 = 'tested  on           yosemite           notredame            liberty'\n",
    "\n",
    "\n",
    "def nice_results_3rdparty(desc_name, res_dict):\n",
    "    if 'liberty' in res_dict:\n",
    "        lib = f'{(100*res_dict[\"liberty\"]):.2f}'\n",
    "    else:\n",
    "        lib = '-----'\n",
    "    if 'notredame' in res_dict:\n",
    "        notre = f'{(100*res_dict[\"notredame\"]):.2f}'\n",
    "    else:\n",
    "        notre = '-----'\n",
    "    if 'yosemite' in res_dict:\n",
    "        yos = f'{(100*res_dict[\"yosemite\"]):.2f}'\n",
    "    else:\n",
    "        yos = '-----'\n",
    "    res = f'{desc_name[:20].ljust(20)}   {yos}              {notre}               {lib} '\n",
    "    return res\n",
    "\n",
    "NA = '-----'\n",
    "def nice_results_Brown(desc_name, res_dict):\n",
    "    lib_yos, lib_notre, yos_notre, yos_lib, notre_lib, notre_yos = NA,NA,NA,NA,NA,NA\n",
    "    if 'liberty' in res_dict:\n",
    "        cr = res_dict['liberty']\n",
    "        if 'notredame' in cr:\n",
    "            lib_notre = f'{(100*cr[\"notredame\"]):.2f}'\n",
    "        else:\n",
    "            lib_notre = NA\n",
    "        if 'yosemite' in cr:\n",
    "            lib_yos = f'{(100*cr[\"yosemite\"]):.2f}'\n",
    "        else:\n",
    "            lib_yos = NA\n",
    "    if 'notredame' in res_dict:\n",
    "        cr = res_dict['notredame']\n",
    "        if 'liberty' in cr:\n",
    "            notre_lib = f'{(100*cr[\"liberty\"]):.2f}'\n",
    "        else:\n",
    "            notre_lib = NA\n",
    "        if 'yosemite' in cr:\n",
    "            notre_yos = f'{(100*cr[\"yosemite\"]):.2f}'\n",
    "        else:\n",
    "            notre_yos = NA    \n",
    "    if 'yosemite' in res_dict:\n",
    "        cr = res_dict['yosemite']\n",
    "        if 'liberty' in cr:\n",
    "            yos_lib = f'{(100*cr[\"liberty\"]):.2f}'\n",
    "        else:\n",
    "            yos_lib = NA\n",
    "        if 'notredame' in cr:\n",
    "            yos_notre = f'{(100*cr[\"notredame\"]):.2f}'\n",
    "        else:\n",
    "            yos_notre = NA    \n",
    "    \n",
    "    res = f'{desc_name[:20].ljust(18)} {lib_yos}  {notre_yos}        {lib_notre}  {yos_notre}        {notre_lib}  {yos_lib}'\n",
    "    return res\n",
    "\n",
    "def print_results_table(full_res_dict):\n",
    "    print (TITLE1)\n",
    "    print (TITLE2)\n",
    "\n",
    "    for desc_name, desc_results in full_res_dict.items():\n",
    "        if '3rdparty' in desc_results:\n",
    "            #print (desc_results)\n",
    "            if len(desc_results['3rdparty']) == 3:\n",
    "                print (nice_results_3rdparty(desc_name, desc_results['3rdparty']))\n",
    "            else:\n",
    "                print (nice_results_Brown(desc_name, desc_results))\n",
    "        else:\n",
    "            print (nice_results_Brown(desc_name, desc_results))\n",
    "    print ()\n",
    "    return\n",
    "\n"
   ]
  },
  {
   "cell_type": "code",
   "execution_count": 79,
   "metadata": {},
   "outputs": [
    {
     "name": "stdout",
     "output_type": "stream",
     "text": [
      "trained on       liberty notredame  liberty yosemite  notredame yosemite\n",
      "tested  on           yosemite           notredame            liberty\n",
      "HardNet 32px       70.64  -----        61.93  -----        -----  -----\n",
      "TFeat 32px         65.45  65.77        54.99  54.69        56.55  56.24\n",
      "SoftMargin 32px    69.29  69.20        61.82  58.61        62.37  60.63\n",
      "R2D2_center_grayscal   61.47              53.18               54.98 \n",
      "R2D2_MenCenter_grays   63.27              54.50               56.25 \n",
      "SOSNet 32px        70.03  -----        62.09  -----        -----  -----\n",
      "HardNetPS 32px         55.56              49.70               49.12 \n",
      "\n"
     ]
    }
   ],
   "source": [
    "print_results_table(full_results_dict)"
   ]
  },
  {
   "cell_type": "code",
   "execution_count": 80,
   "metadata": {},
   "outputs": [
    {
     "name": "stdout",
     "output_type": "stream",
     "text": [
      "trained on       liberty notredame  liberty yosemite  notredame yosemite\n",
      "tested  on           yosemite           notredame            liberty\n",
      "Kornia RootSIFT 32px   58.24              49.07               49.65 \n",
      "Kornia RootSIFT 41px   57.83              48.48               49.01 \n",
      "Kornia RootSIFT 65px   56.70              47.71               48.09 \n",
      "Kornia SIFT 32px       58.47              47.76               48.70 \n",
      "Kornia SIFT 41px       58.14              47.30               48.30 \n",
      "Kornia SIFT 65px       57.04              46.58               47.59 \n",
      "OpenCV_SIFT 32px       60.01              49.18               50.95 \n",
      "OpenCV_SIFT 41px       63.61              50.81               53.20 \n",
      "OpenCV_SIFT 65px       66.97              52.25               54.87 \n",
      "OpenCV_LATCH 65px  -----  -----        -----  37.26        -----  39.08\n",
      "OpenCV_LUCID 32px      20.37              23.08               27.24 \n",
      "OpenCV_LUCID 65px      20.53              23.31               27.65 \n",
      "OpenCV_FREAK 65px      46.15              40.39               43.30 \n",
      "\n"
     ]
    }
   ],
   "source": [
    "non_deep = torch.load('non_deep_res.pt')\n",
    "print_results_table(non_deep)"
   ]
  },
  {
   "cell_type": "markdown",
   "metadata": {},
   "source": []
  },
  {
   "cell_type": "markdown",
   "metadata": {},
   "source": [
    "If you use the benchmark, please cite it:\n",
    "\n",
    "    @misc{BrownRevisited2020,\n",
    "      title={UBC PhotoTour Revisied},\n",
    "      author={Mishkin, Dmytro},\n",
    "      year={2020},\n",
    "      url = {https://github.com/ducha-aiki/brown_phototour_revisited}\n",
    "    }"
   ]
  },
  {
   "cell_type": "markdown",
   "metadata": {},
   "source": []
  }
 ],
 "metadata": {
  "kernelspec": {
   "display_name": "Python 3",
   "language": "python",
   "name": "python3"
  },
  "language_info": {
   "codemirror_mode": {
    "name": "ipython",
    "version": 3
   },
   "file_extension": ".py",
   "mimetype": "text/x-python",
   "name": "python",
   "nbconvert_exporter": "python",
   "pygments_lexer": "ipython3",
   "version": "3.7.5"
  }
 },
 "nbformat": 4,
 "nbformat_minor": 2
}
