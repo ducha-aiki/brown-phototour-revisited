{
 "cells": [
  {
   "cell_type": "code",
   "execution_count": null,
   "metadata": {},
   "outputs": [],
   "source": [
    "#hide\n",
    "from brown_phototour_revisited.dataset import *\n",
    "from brown_phototour_revisited.extraction import *\n",
    "from brown_phototour_revisited.benchmarking import *"
   ]
  },
  {
   "cell_type": "markdown",
   "metadata": {},
   "source": [
    "#  brown_phototour_revisited\n",
    "\n",
    "> The package for local patch descriptors evaluation, which takes into account image indexes  and second nearest neighbor ratio (SNN) filtering strategy. So, it evaluates descriptors in a similar way, how they are used in practice. It is in agreement with [IMC benchmark](https://arxiv.org/abs/2003.01587), unlike the original protocol. The benchmark is not \"test benchmark\" by amy means. Rather it is intended to be used as validation/development set for local patch descriptor learning and/or crafting."
   ]
  },
  {
   "cell_type": "markdown",
   "metadata": {},
   "source": [
    "## Install"
   ]
  },
  {
   "cell_type": "markdown",
   "metadata": {},
   "source": [
    "`pip install brown_phototour_revisited`"
   ]
  },
  {
   "cell_type": "markdown",
   "metadata": {},
   "source": [
    "## How to use"
   ]
  },
  {
   "cell_type": "markdown",
   "metadata": {},
   "source": [
    "There is a single function, which does everything for you: `full_evaluation`. The original Brown benchmark consider evaluation, similar to cross-validation: train descriptor on one subset, evaluate on two others, repeat for all, so 6 evaluations are required. For the handcrafted descriptors, or those, that are trained on 3rd party datasets, only 3 evaluations are necessary.  We are following it here as well.\n",
    "\n",
    "However, if you need to run some tests separately, or reuse some functions -- we will cover the usage below.\n",
    "In the following example we will show how to use `full_evaluation` to evaluate SIFT descriptor as implemented in kornia."
   ]
  },
  {
   "cell_type": "code",
   "execution_count": null,
   "metadata": {},
   "outputs": [],
   "source": [
    "# !pip install kornia"
   ]
  },
  {
   "cell_type": "code",
   "execution_count": null,
   "metadata": {},
   "outputs": [
    {
     "name": "stdout",
     "output_type": "stream",
     "text": [
      "------------------------------------------------------------------------------\n",
      "Mean Average Precision wrt Lowe SNN ratio criterion on UBC Phototour Revisited\n",
      "------------------------------------------------------------------------------\n",
      "trained on       liberty notredame  liberty yosemite  notredame yosemite\n",
      "tested  on           yosemite           notredame            liberty\n",
      "------------------------------------------------------------------------------\n",
      "Kornia RootSIFT        56.70              47.71               48.09 \n",
      "------------------------------------------------------------------------------\n"
     ]
    }
   ],
   "source": [
    "import torch\n",
    "import kornia\n",
    "from IPython.display import clear_output\n",
    "from brown_phototour_revisited.benchmarking import *\n",
    "patch_size = 65 \n",
    "\n",
    "model = kornia.feature.SIFTDescriptor(patch_size, rootsift=True).eval()\n",
    "\n",
    "descs_out_dir = 'data/descriptors'\n",
    "download_dataset_to = 'data/dataset'\n",
    "results_dir = 'data/mAP'\n",
    "\n",
    "results_dict = {}\n",
    "results_dict['Kornia RootSIFT'] = full_evaluation(model,\n",
    "                                'Kornia RootSIFT',\n",
    "                                path_to_save_dataset = download_dataset_to,\n",
    "                                path_to_save_descriptors = descs_out_dir,\n",
    "                                path_to_save_mAP = results_dir,\n",
    "                                patch_size = patch_size, \n",
    "                                device = torch.device('cuda:0'), \n",
    "                           distance='euclidean',\n",
    "                           backend='pytorch-cuda')\n",
    "clear_output()\n",
    "print_results_table(results_dict)"
   ]
  },
  {
   "cell_type": "markdown",
   "metadata": {},
   "source": [
    "## Precomputed benchmark results\n",
    "\n",
    "We have pre-computed some results for you. The implementation is in the following notebooks in the [examples](examples/) dir:\n",
    "\n",
    "- [Deep descriptors](examples/evaluate_deep_descriptors.ipynb)\n",
    "- [Non-deep descriptors](examples/evaluate_non_deep_descriptors.ipynb)\n",
    "\n",
    "The final tables are the following:\n",
    "\n",
    "\n",
    "    ------------------------------------------------------------------------------\n",
    "    Mean Average Precision wrt Lowe SNN ratio criterion on UBC Phototour Revisited\n",
    "    ------------------------------------------------------------------------------\n",
    "    trained on       liberty notredame  liberty yosemite  notredame yosemite\n",
    "    tested  on           yosemite           notredame            liberty\n",
    "    ------------------------------------------------------------------------------\n",
    "    Kornia RootSIFT 32px   58.24              49.07               49.65 \n",
    "    HardNet 32px       70.64  70.31        61.93  59.56        63.06  61.64\n",
    "    SOSNet 32px        70.03  70.19        62.09  59.68        63.16  61.65\n",
    "    TFeat 32px         65.45  65.77        54.99  54.69        56.55  56.24\n",
    "    SoftMargin 32px    69.29  69.20        61.82  58.61        62.37  60.63\n",
    "    HardNetPS 32px         55.56              49.70               49.12 \n",
    "    R2D2_center_grayscal   61.47              53.18               54.98 \n",
    "    R2D2_MeanCenter_gray   62.73              54.10               56.17 \n",
    "    ------------------------------------------------------------------------------\n",
    "    \n",
    "    ------------------------------------------------------------------------------\n",
    "    Mean Average Precision wrt Lowe SNN ratio criterion on UBC Phototour Revisited\n",
    "    ------------------------------------------------------------------------------\n",
    "    trained on       liberty notredame  liberty yosemite  notredame yosemite\n",
    "    tested  on           yosemite           notredame            liberty\n",
    "    ------------------------------------------------------------------------------\n",
    "    Kornia SIFT 32px       58.47              47.76               48.70 \n",
    "    OpenCV_SIFT 32px       53.16              45.93               46.00 \n",
    "    Kornia RootSIFT 32px   58.24              49.07               49.65 \n",
    "    OpenCV_RootSIFT 32px   53.50              47.16               47.37 \n",
    "    OpenCV_LATCH 65px  -----  -----        -----  37.26        -----  39.08\n",
    "    OpenCV_LUCID 32px      20.37              23.08               27.24 \n",
    "    skimage_BRIEF 65px     52.68              44.82               46.56 \n",
    "    Kornia RootSIFTPCA 3 60.73  60.64        50.80  50.24        52.46  52.02\n",
    "    MKD-concat-lw-32 32p 72.27  71.95        60.88  58.78        60.68  59.10\n",
    "    ------------------------------------------------------------------------------\n",
    "\n",
    "\n",
    "\n",
    "### Disclaimer 1: don't trust this table fully\n",
    "\n",
    "\n",
    "I haven't (yet!) checked if all the deep descriptors models, trained on Brown, were trained with flip-rotation 90 degrees augmentation. In the code below I assume that they were, however, it might not be true -- and the comparison might not be completely fair. I will do my best to check it, but if you know that I have used wrong weights - please open an issue. Thank you. \n",
    "\n",
    "\n",
    "### Disclaimer 2: it is not \"benchmark\".\n",
    "\n",
    "\n",
    "The intended usage of the package is not to test and report the numbers in the paper. Instead think about is as cross-validation tool, helping the development. Thus, one CAN tune hyperparameters based on the benchmark results  instead of doing so on [HPatches](https://github.com/hpatches/hpatches-benchmark). After you have finished tuning, please, evaluate your local descriptors on some downstream task like [IMC image matching benchmark](https://github.com/vcg-uvic/image-matching-benchmark) or [visual localization](https://www.visuallocalization.net/).\n",
    "\n",
    "\n",
    "**If you found any mistake, please open an issue**"
   ]
  },
  {
   "cell_type": "markdown",
   "metadata": {},
   "source": [
    "# Detailed examples of usage"
   ]
  },
  {
   "cell_type": "markdown",
   "metadata": {},
   "source": [
    "There are 3 main modules of the package: `dataset`, `extraction` and `benchmarking`. \n",
    "    \n",
    "To run the benchmark manually one needs two things:\n",
    " - extract the descriptors with either `extract_pytorchinput_descriptors` or `extract_numpyinput_descriptors`\n",
    " - get the mean average precision (mAP) with `evaluate_mAP_snn_based`\n",
    " \n",
    "Here we will show how to evaluate several descriptors: Pytorch-based HardNet, OpenCV SIFT, skimage BRIEF."
   ]
  },
  {
   "cell_type": "markdown",
   "metadata": {},
   "source": [
    "The code below will download the HardNet, trained on Liberty dataset, download the Notredame subset and extracts the local patch descriptors into the dict. Note, that we should not evaluate descriptor on the same subset, as it was trained on."
   ]
  },
  {
   "cell_type": "code",
   "execution_count": null,
   "metadata": {},
   "outputs": [
    {
     "name": "stdout",
     "output_type": "stream",
     "text": [
      "# Found cached data data/dataset/notredame.pt\n",
      "data/descriptors/HardNet+Liberty_32px_notredame.npy already exists, loading\n"
     ]
    }
   ],
   "source": [
    "import torch\n",
    "import kornia\n",
    "\n",
    "from brown_phototour_revisited.dataset import *\n",
    "from brown_phototour_revisited.extraction import *\n",
    "from brown_phototour_revisited.benchmarking import *\n",
    "\n",
    "model = kornia.feature.HardNet(True).eval()\n",
    "\n",
    "descs_out_dir = 'data/descriptors'\n",
    "download_dataset_to = 'data/dataset'\n",
    "patch_size = 32 # HardNet expects 32x32 patches\n",
    "\n",
    "desc_dict = extract_pytorchinput_descriptors(model,\n",
    "                                'HardNet+Liberty',\n",
    "                                subset= 'notredame', \n",
    "                                path_to_save_dataset = download_dataset_to,\n",
    "                                path_to_save_descriptors = descs_out_dir,\n",
    "                                patch_size = patch_size, \n",
    "                                device = torch.device('cuda:0'))"
   ]
  },
  {
   "cell_type": "code",
   "execution_count": null,
   "metadata": {},
   "outputs": [
    {
     "name": "stdout",
     "output_type": "stream",
     "text": [
      "dict_keys(['descriptors', 'labels', 'img_idxs'])\n"
     ]
    }
   ],
   "source": [
    "print (desc_dict.keys())"
   ]
  },
  {
   "cell_type": "markdown",
   "metadata": {},
   "source": [
    "Function `extract_pytorchinput_descriptors` expects `torch.nn.Module`, which takes `(B, 1, patch_size, patch_size)` `torch.Tensor` input and outputs `(B, desc_dim)` `torch.Tensor`."
   ]
  },
  {
   "cell_type": "markdown",
   "metadata": {},
   "source": [
    "Now we will calculate mAP."
   ]
  },
  {
   "cell_type": "code",
   "execution_count": null,
   "metadata": {},
   "outputs": [
    {
     "name": "stdout",
     "output_type": "stream",
     "text": [
      "Found saved results data/mAP/HardNet+Liberty_notredame.npy, loading\n",
      "HardNetLib mAP on Notredame = 0.61901\n"
     ]
    }
   ],
   "source": [
    "mAP = evaluate_mAP_snn_based(desc_dict['descriptors'],\n",
    "                             desc_dict['labels'], \n",
    "                             desc_dict['img_idxs'],\n",
    "                             path_to_save_mAP = 'data/mAP/HardNet+Liberty_notredame.npy',\n",
    "                            backend='pytorch-cuda')\n",
    "print (f'HardNetLib mAP on Notredame = {mAP:.5f}')"
   ]
  },
  {
   "cell_type": "markdown",
   "metadata": {},
   "source": [
    "Now we will evaluate OpenCV SIFT descriptor. \n",
    "Function `extract_numpyinput_descriptors` expects function or object, which takes (patch_size, patch_size) input and outputs (desc_dim) np.array.\n",
    "\n",
    "As OpenCV doesn't provide such function, we will create it ourselves, or rather take already implemented from [HPatches benchmark repo](https://github.com/hpatches/hpatches-benchmark/blob/master/python/extract_opencv_sift.py#L43)"
   ]
  },
  {
   "cell_type": "code",
   "execution_count": null,
   "metadata": {},
   "outputs": [
    {
     "name": "stdout",
     "output_type": "stream",
     "text": [
      "# Found cached data data/dataset/notredame.pt\n",
      "data/descriptors/OpenCV_SIFT_65px_notredame.npy already exists, loading\n"
     ]
    }
   ],
   "source": [
    "import cv2\n",
    "import numpy as np\n",
    "patch_size = 65\n",
    "\n",
    "# https://github.com/hpatches/hpatches-benchmark/blob/master/python/extract_opencv_sift.py#L43\n",
    "def get_center_kp(PS=65.):\n",
    "    c = PS/2.0\n",
    "    center_kp = cv2.KeyPoint()\n",
    "    center_kp.pt = (c,c)\n",
    "    center_kp.size = PS/5.303\n",
    "    return center_kp\n",
    "\n",
    "\n",
    "sift = cv2.SIFT_create()\n",
    "center_kp = get_center_kp(patch_size)\n",
    "\n",
    "def extract_opencv_sift(patch):\n",
    "    #Convert back to UINT8 and provide aux keypoint in the center of the patch\n",
    "    return sift.compute((255*patch).astype(np.uint8),[center_kp])[1][0].reshape(128)\n",
    "\n",
    "descs_out_dir = 'data/descriptors'\n",
    "download_dataset_to = 'data/dataset'\n",
    "\n",
    "\n",
    "desc_dict_sift = extract_numpyinput_descriptors(extract_opencv_sift,\n",
    "                                'OpenCV_SIFT',\n",
    "                                subset= 'notredame', \n",
    "                                path_to_save_dataset = download_dataset_to,\n",
    "                                path_to_save_descriptors = descs_out_dir,\n",
    "                                patch_size = patch_size)"
   ]
  },
  {
   "cell_type": "code",
   "execution_count": null,
   "metadata": {},
   "outputs": [
    {
     "name": "stdout",
     "output_type": "stream",
     "text": [
      "Found saved results data/mAP/OpenCV_SIFT65_notredame.npy, loading\n",
      "OpenCV SIFT PS = 65, mAP on Notredame = 0.45530\n"
     ]
    }
   ],
   "source": [
    "mAP_SIFT = evaluate_mAP_snn_based(desc_dict_sift['descriptors'],\n",
    "                             desc_dict_sift['labels'], \n",
    "                             desc_dict_sift['img_idxs'],\n",
    "                            path_to_save_mAP = 'data/mAP/OpenCV_SIFT65_notredame.npy',\n",
    "                            backend='pytorch-cuda')\n",
    "print (f'OpenCV SIFT PS = {patch_size}, mAP on Notredame = {mAP_SIFT:.5f}')"
   ]
  },
  {
   "cell_type": "markdown",
   "metadata": {},
   "source": [
    "Now, let's try some binary descriptor, like BRIEF. Evaluation so far supports two metrics: `\"euclidean\"` and\n",
    "`\"hamming\"`.\n",
    "\n",
    "Function `extract_numpyinput_descriptors` expects function or object, which takes `(patch_size, patch_size)` input and outputs `(desc_dim)` `np.array`.\n",
    "\n",
    "As skimage doesn't provide exactly such function, we will create it ourselves by placing \"detected\" keypoint in the center of the patch."
   ]
  },
  {
   "cell_type": "code",
   "execution_count": null,
   "metadata": {},
   "outputs": [
    {
     "name": "stdout",
     "output_type": "stream",
     "text": [
      "# Found cached data data/dataset/notredame.pt\n",
      "data/descriptors/skimage_BRIEF_65px_notredame.npy already exists, loading\n"
     ]
    }
   ],
   "source": [
    "import numpy as np\n",
    "from skimage.feature import BRIEF\n",
    "patch_size = 65\n",
    "BR = BRIEF(patch_size = patch_size)\n",
    "def extract_skimage_BRIEF(patch):\n",
    "    BR.extract(patch.astype(np.float64), np.array([patch_size/2.0, patch_size/2.0]).reshape(1,2))\n",
    "    return BR.descriptors.astype(np.float32)\n",
    "\n",
    "desc_dict_brief = extract_numpyinput_descriptors(extract_skimage_BRIEF,\n",
    "                                'skimage_BRIEF',\n",
    "                                subset= 'notredame', \n",
    "                                path_to_save_dataset = download_dataset_to,\n",
    "                                path_to_save_descriptors = descs_out_dir,\n",
    "                                patch_size = patch_size)"
   ]
  },
  {
   "cell_type": "markdown",
   "metadata": {},
   "source": [
    "That's will take a while. "
   ]
  },
  {
   "cell_type": "code",
   "execution_count": null,
   "metadata": {},
   "outputs": [
    {
     "name": "stdout",
     "output_type": "stream",
     "text": [
      "Found saved results data/mAP/skimageBRIEF_notredame.npy, loading\n",
      "skimage BRIEF PS = 65, mAP on Notredame = 0.44817\n"
     ]
    }
   ],
   "source": [
    "mAP_BRIEF = evaluate_mAP_snn_based(desc_dict_brief['descriptors'].astype(np.bool),\n",
    "                             desc_dict_brief['labels'], \n",
    "                             desc_dict_brief['img_idxs'],\n",
    "                             path_to_save_mAP = 'data/mAP/skimageBRIEF_notredame.npy',\n",
    "                             backend='numpy',\n",
    "                             distance='hamming')\n",
    "print (f'skimage BRIEF PS = {patch_size}, mAP on Notredame = {mAP_BRIEF:.5f}')"
   ]
  },
  {
   "cell_type": "markdown",
   "metadata": {},
   "source": [
    "### Loading cached results\n",
    "\n",
    "You can also directly load already calculated results from cache without creating a model by using function `load_cached_results`"
   ]
  },
  {
   "cell_type": "code",
   "execution_count": null,
   "metadata": {},
   "outputs": [
    {
     "name": "stdout",
     "output_type": "stream",
     "text": [
      "------------------------------------------------------------------------------\n",
      "Mean Average Precision wrt Lowe SNN ratio criterion on UBC Phototour Revisited\n",
      "------------------------------------------------------------------------------\n",
      "trained on       liberty notredame  liberty yosemite  notredame yosemite\n",
      "tested  on           yosemite           notredame            liberty\n",
      "------------------------------------------------------------------------------\n",
      "Kornia RootSIFT        56.70              47.71               48.09 \n",
      "HardNet 32px       70.64  70.31        61.93  59.56        63.06  61.64\n",
      "------------------------------------------------------------------------------\n"
     ]
    }
   ],
   "source": [
    "from brown_phototour_revisited.benchmarking import load_cached_results\n",
    "desc_name = 'HardNet'\n",
    "patch_size = 32\n",
    "desc_dict =  load_cached_results(desc_name,\n",
    "                    learned_on = ['liberty', 'notredame', 'yosemite'],\n",
    "                    path_to_save_dataset = download_dataset_to,\n",
    "                    path_to_save_descriptors = descs_out_dir,\n",
    "                    path_to_save_mAP = results_dir,\n",
    "                    patch_size = patch_size)\n",
    "\n",
    "results_dict[f'{desc_name} {patch_size}px'] = desc_dict\n",
    "clear_output()\n",
    "print_results_table(results_dict)"
   ]
  },
  {
   "cell_type": "markdown",
   "metadata": {},
   "source": [
    "If you use the benchmark, please cite it:\n",
    "\n",
    "    @misc{BrownRevisited2020,\n",
    "      title={UBC PhotoTour Revisied},\n",
    "      author={Mishkin, Dmytro},\n",
    "      year={2020},\n",
    "      url = {https://github.com/ducha-aiki/brown_phototour_revisited}\n",
    "    }"
   ]
  }
 ],
 "metadata": {
  "kernelspec": {
   "display_name": "Python 3",
   "language": "python",
   "name": "python3"
  }
 },
 "nbformat": 4,
 "nbformat_minor": 2
}
