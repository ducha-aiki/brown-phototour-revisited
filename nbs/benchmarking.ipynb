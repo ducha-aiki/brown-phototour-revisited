{
 "cells": [
  {
   "cell_type": "code",
   "execution_count": null,
   "metadata": {},
   "outputs": [],
   "source": [
    "# default_exp benchmarking"
   ]
  },
  {
   "cell_type": "markdown",
   "metadata": {},
   "source": [
    "# benchmarking\n",
    "\n",
    "> This module contains new evaluation protocol for UBC Phototour local patch dataset"
   ]
  },
  {
   "cell_type": "code",
   "execution_count": null,
   "metadata": {},
   "outputs": [],
   "source": [
    "#hide\n",
    "from nbdev.showdoc import *"
   ]
  },
  {
   "cell_type": "code",
   "execution_count": null,
   "metadata": {},
   "outputs": [],
   "source": [
    "#export\n",
    "import numpy as np\n",
    "import gc\n",
    "from fastprogress.fastprogress import progress_bar\n",
    "from scipy.spatial.distance import cdist\n",
    "from sklearn.metrics.pairwise import paired_distances\n",
    "from sklearn.metrics import average_precision_score\n",
    "def evaluate_mAP_snn_based(descriptors, labels, img_labels):\n",
    "    '''Function to calculate mean average precision, over per-image based matching using Lowe SNN ratio'''\n",
    "    APs = []\n",
    "    unique_img_labels = sorted(np.unique(img_labels))\n",
    "    for img_idx in progress_bar(unique_img_labels):\n",
    "        current_batch = img_labels == img_idx\n",
    "        cur_descs = descriptors[current_batch]\n",
    "        cur_labels = labels[current_batch]\n",
    "        NN = cur_labels.shape[0]\n",
    "        pos_labels_repeat = np.broadcast_to(cur_labels.reshape(1,-1),(NN,NN))\n",
    "        pos_mask = (pos_labels_repeat == pos_labels_repeat.T)\n",
    "        pos_mask_not_anchor = pos_mask != np.eye(NN, dtype=np.bool)\n",
    "        neg_idx = np.zeros((NN), dtype=np.int32)\n",
    "        if NN > 1000: # To avoid OOM, we will find hard negative in batches\n",
    "            bs1 = 128\n",
    "            nb = (NN // bs1)  \n",
    "            for i in range(nb):\n",
    "                st = i*bs1\n",
    "                fin = min(NN, (i+1)*bs1)\n",
    "                if fin == st:\n",
    "                    break\n",
    "                dm = cdist(cur_descs[st:fin], cur_descs) +\\\n",
    "                        1000.0 * pos_mask[st:fin] + \\\n",
    "                        1000.0 * np.eye(NN, dtype=np.bool)[st:fin]\n",
    "                min_neg_idxs = np.argmin(dm, axis=1)\n",
    "                neg_idx[st:fin] = min_neg_idxs\n",
    "        # We want to create all possible anchor-positive combinations\n",
    "        pos_idxs = np.broadcast_to(np.arange(NN).reshape(1,-1),(NN,NN))[pos_mask_not_anchor]\n",
    "        anc_idxs = np.nonzero(pos_mask_not_anchor)[0]\n",
    "        pos_mask = None\n",
    "        neg_idxs = neg_idx[anc_idxs]\n",
    "        pos_dists = paired_distances(cur_descs[anc_idxs], cur_descs[pos_idxs])\n",
    "        neg_dists = paired_distances(cur_descs[anc_idxs], cur_descs[neg_idxs])\n",
    "        correct = pos_dists <= neg_dists\n",
    "        snn = np.minimum(pos_dists,neg_dists) / np.maximum(pos_dists,neg_dists)\n",
    "        snn[np.isnan(snn)] = 1.0\n",
    "        ap = average_precision_score(correct, 1-snn)\n",
    "        APs.append(ap)\n",
    "        pos_mask = None\n",
    "        pos_mask_not_anchor = None\n",
    "        cur_descs = None\n",
    "        pos_labels_repeat = None\n",
    "        dm = None\n",
    "        gc.collect()\n",
    "    return np.array(APs).mean()"
   ]
  },
  {
   "cell_type": "code",
   "execution_count": null,
   "metadata": {},
   "outputs": [],
   "source": []
  },
  {
   "cell_type": "code",
   "execution_count": null,
   "metadata": {},
   "outputs": [],
   "source": []
  },
  {
   "cell_type": "code",
   "execution_count": null,
   "metadata": {},
   "outputs": [],
   "source": []
  },
  {
   "cell_type": "markdown",
   "metadata": {},
   "source": []
  }
 ],
 "metadata": {
  "kernelspec": {
   "display_name": "Python 3",
   "language": "python",
   "name": "python3"
  }
 },
 "nbformat": 4,
 "nbformat_minor": 4
}
